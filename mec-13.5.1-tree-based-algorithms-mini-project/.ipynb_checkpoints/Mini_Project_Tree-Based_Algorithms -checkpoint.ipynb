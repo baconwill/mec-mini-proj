{
 "cells": [
  {
   "cell_type": "markdown",
   "metadata": {
    "gradient": {
     "editing": false,
     "id": "b8ae9240-44ea-494c-a4a2-8ce3b0e174ad",
     "kernelId": "7fd6bba4-1c21-4a38-bc94-1084ee9d4c17"
    }
   },
   "source": [
    "# Mini Project: Tree-Based Algorithms"
   ]
  },
  {
   "cell_type": "markdown",
   "metadata": {
    "gradient": {
     "editing": false,
     "id": "4b69a5a3-c0ef-4306-ac11-e595b483dbe1",
     "kernelId": "7fd6bba4-1c21-4a38-bc94-1084ee9d4c17"
    }
   },
   "source": [
    "## The \"German Credit\" Dataset"
   ]
  },
  {
   "cell_type": "markdown",
   "metadata": {
    "gradient": {
     "editing": false,
     "id": "0b487a0a-56d3-43f5-b288-be3e1137a4d5",
     "kernelId": "7fd6bba4-1c21-4a38-bc94-1084ee9d4c17"
    }
   },
   "source": [
    "### Dataset Details"
   ]
  },
  {
   "cell_type": "markdown",
   "metadata": {
    "gradient": {
     "editing": false,
     "id": "91252ca4-4f71-4d0c-84ff-cd5716d61333",
     "kernelId": "7fd6bba4-1c21-4a38-bc94-1084ee9d4c17"
    }
   },
   "source": [
    "This dataset has two classes (these would be considered labels in Machine Learning terms) to describe the worthiness of a personal loan: \"Good\" or \"Bad\". There are predictors related to attributes, such as: checking account status, duration, credit history, purpose of the loan, amount of the loan, savings accounts or bonds, employment duration, installment rate in percentage of disposable income, personal information, other debtors/guarantors, residence duration, property, age, other installment plans, housing, number of existing credits, job information, number of people being liable to provide maintenance for, telephone, and foreign worker status.\n",
    "\n",
    "Many of these predictors are discrete and have been expanded into several 0/1 indicator variables (a.k.a. they have been one-hot-encoded).\n",
    "\n",
    "This dataset has been kindly provided by Professor Dr. Hans Hofmann of the University of Hamburg, and can also be found on the UCI Machine Learning Repository."
   ]
  },
  {
   "cell_type": "markdown",
   "metadata": {
    "gradient": {
     "editing": false,
     "id": "3763b3fe-0a99-4bac-8e6b-86f7a9bcaa87",
     "kernelId": "7fd6bba4-1c21-4a38-bc94-1084ee9d4c17"
    }
   },
   "source": [
    "\n",
    "\n",
    "\n"
   ]
  },
  {
   "cell_type": "markdown",
   "metadata": {
    "gradient": {
     "editing": false,
     "id": "f5c95a17-c8e6-4b88-8da6-dc7b5d85d9d0",
     "kernelId": "7fd6bba4-1c21-4a38-bc94-1084ee9d4c17"
    }
   },
   "source": [
    "## Decision Trees"
   ]
  },
  {
   "cell_type": "markdown",
   "metadata": {
    "gradient": {
     "editing": false,
     "id": "6eb99a3b-234b-4014-9730-73023b89f9cd",
     "kernelId": "7fd6bba4-1c21-4a38-bc94-1084ee9d4c17"
    }
   },
   "source": [
    " As we have learned in the previous lectures, Decision Trees as a family of algorithms (irrespective to the particular implementation) are powerful algorithms that can produce models with a predictive accuracy higher than that produced by linear models, such as Linear or Logistic Regression. Primarily, this is due to the fact the DT's can model nonlinear relationships, and also have a number of tuning paramters, that allow for the practicioner to achieve the best possible model. An added bonus is the ability to visualize the trained Decision Tree model, which allows for some insight into how the model has produced the predictions that it has. One caveat here, to keep in mind, is that sometimes, due to the size of the dataset (both in the sense of the number of records, as well as the number of features), the visualization might prove to be very large and complex, increasing the difficulty of interpretation."
   ]
  },
  {
   "cell_type": "markdown",
   "metadata": {
    "gradient": {
     "editing": false,
     "id": "d8186261-8cd4-4459-85fe-8cc94cdfba5f",
     "kernelId": "7fd6bba4-1c21-4a38-bc94-1084ee9d4c17"
    }
   },
   "source": [
    "To give you a very good example of how Decision Trees can be visualized and interpreted, we would strongly recommend that, before continuing on with solving the problems in this Mini Project, you take the time to read this fanstastic, detailed and informative blog post: http://explained.ai/decision-tree-viz/index.html"
   ]
  },
  {
   "cell_type": "markdown",
   "metadata": {
    "gradient": {
     "editing": false,
     "id": "0491e797-33a5-469c-8085-ac99151c4264",
     "kernelId": "7fd6bba4-1c21-4a38-bc94-1084ee9d4c17"
    }
   },
   "source": [
    "## Building Your First Decision Tree Model"
   ]
  },
  {
   "cell_type": "markdown",
   "metadata": {
    "gradient": {
     "editing": false,
     "id": "618b3b0b-69aa-4859-a3a6-abbbb4fa1254",
     "kernelId": "7fd6bba4-1c21-4a38-bc94-1084ee9d4c17"
    }
   },
   "source": [
    "So, now it's time to jump straight into the heart of the matter. Your first task, is to build a Decision Tree model, using the aforementioned \"German Credit\" dataset, which contains 1,000 records, and 62 columns (one of them presents the labels, and the other 61 present the potential features for the model.)"
   ]
  },
  {
   "cell_type": "markdown",
   "metadata": {
    "gradient": {
     "editing": false,
     "id": "b1389ce2-104a-4680-9a7f-21db5724adc2",
     "kernelId": "7fd6bba4-1c21-4a38-bc94-1084ee9d4c17"
    }
   },
   "source": [
    "For this task, you will be using the scikit-learn library, which comes already pre-installed with the Anaconda Python distribution. In case you're not using that, you can easily install it using pip."
   ]
  },
  {
   "cell_type": "markdown",
   "metadata": {
    "gradient": {
     "editing": false,
     "id": "256b0c8d-76fd-44e3-9586-db5462ce50eb",
     "kernelId": "7fd6bba4-1c21-4a38-bc94-1084ee9d4c17"
    }
   },
   "source": [
    "Before embarking on creating your first model, we would strongly encourage you to read the short tutorial for Decision Trees in scikit-learn (http://scikit-learn.org/stable/modules/tree.html), and then dive a bit deeper into the documentation of the algorithm itself (http://scikit-learn.org/stable/modules/generated/sklearn.tree.DecisionTreeClassifier.html). "
   ]
  },
  {
   "cell_type": "markdown",
   "metadata": {
    "gradient": {
     "editing": false,
     "id": "1dcc6bc7-6b7b-4168-93a9-c9c034915869",
     "kernelId": "7fd6bba4-1c21-4a38-bc94-1084ee9d4c17"
    }
   },
   "source": [
    "Also, since you want to be able to present the results of your model, we suggest you take a look at the tutorial for accuracy metrics for classification models (http://scikit-learn.org/stable/modules/model_evaluation.html#classification-report) as well as the more detailed documentation (http://scikit-learn.org/stable/modules/generated/sklearn.metrics.classification_report.html).\n",
    "\n",
    "Finally, an *amazing* resource that explains the various classification model accuracy metrics, as well as the relationships between them, can be found on Wikipedia: https://en.wikipedia.org/wiki/Confusion_matrix"
   ]
  },
  {
   "cell_type": "markdown",
   "metadata": {
    "gradient": {
     "editing": false,
     "id": "5a23b24a-8c44-4d60-b932-75257759fb59",
     "kernelId": "7fd6bba4-1c21-4a38-bc94-1084ee9d4c17"
    }
   },
   "source": [
    "(Note: as you've already learned in the Logistic Regression mini project, a standard practice in Machine Learning for achieving the best possible result when training a model is to use hyperparameter tuning, through Grid Search and k-fold Cross Validation. We strongly encourage you to use it here as well, not just because it's standard practice, but also becuase it's not going to be computationally to intensive, due to the size of the dataset that you're working with. Our suggestion here is that you split the data into 70% training, and 30% testing. Then, do the hyperparameter tuning and Cross Validation on the training set, and afterwards to a final test on the testing set.)"
   ]
  },
  {
   "cell_type": "markdown",
   "metadata": {
    "gradient": {
     "editing": false,
     "id": "143c20ab-1887-4847-94d4-ad1a0050c1e9",
     "kernelId": "7fd6bba4-1c21-4a38-bc94-1084ee9d4c17"
    }
   },
   "source": [
    "### Now we pass the torch onto you! You can start building your first Decision Tree model! :)"
   ]
  },
  {
   "cell_type": "code",
   "execution_count": null,
   "metadata": {
    "gradient": {
     "editing": false,
     "id": "697a65c0-902e-4369-b14f-0c5690b2b8d2",
     "kernelId": "7fd6bba4-1c21-4a38-bc94-1084ee9d4c17"
    }
   },
   "outputs": [],
   "source": [
    "# !pip install --upgrade matplotlib\n",
    "import pandas as pd\n",
    "from sklearn.tree import DecisionTreeClassifier\n",
    "from sklearn.metrics import classification_report\n",
    "from sklearn.model_selection import train_test_split\n",
    "from sklearn.model_selection import GridSearchCV\n",
    "from sklearn.metrics import accuracy_score"
   ]
  },
  {
   "cell_type": "code",
   "execution_count": null,
   "metadata": {
    "gradient": {
     "editing": false,
     "id": "b7d33c62-f441-4881-aa2f-a7118f5e6c59",
     "kernelId": "7fd6bba4-1c21-4a38-bc94-1084ee9d4c17",
     "source_hidden": false
    }
   },
   "outputs": [],
   "source": [
    "def to_bool(x):\n",
    "    \n",
    "    if x == 'Good': return 1\n",
    "    elif x == 'Bad': return 0\n",
    "    "
   ]
  },
  {
   "cell_type": "code",
   "execution_count": null,
   "metadata": {
    "gradient": {
     "editing": false,
     "id": "cd12a279-8e10-49d7-81a9-a14970331ed4",
     "kernelId": "7fd6bba4-1c21-4a38-bc94-1084ee9d4c17"
    }
   },
   "outputs": [],
   "source": [
    "# Your code here! :)\n",
    "GermanCredit = pd.read_csv(\"GermanCredit.csv.zip\")\n",
    "x = GermanCredit[GermanCredit.columns.drop('Class')]\n",
    "y = GermanCredit['Class']\n",
    "y = y.apply(to_bool)\n",
    "# print(y2)\n",
    "Xtrain, Xtest, Ytrain, Ytest = train_test_split(x.values, y.values,train_size = 0.75,random_state=5)\n",
    "# print(len(list(GermanCredit.columns)))\n",
    "# print(GermanCredit['Class'])"
   ]
  },
  {
   "cell_type": "code",
   "execution_count": null,
   "metadata": {
    "gradient": {
     "editing": false,
     "id": "9d1c8a82-ad73-40c1-996c-23f8fea167a4",
     "kernelId": "7fd6bba4-1c21-4a38-bc94-1084ee9d4c17",
     "source_hidden": false
    }
   },
   "outputs": [
    {
     "name": "stdout",
     "output_type": "stream",
     "text": [
      "Fitting 4 folds for each of 50 candidates, totalling 200 fits\n",
      "0.748\n"
     ]
    }
   ],
   "source": [
    "params = {\n",
    "    'max_depth': [2, 3, 5, 10, 20],\n",
    "    'min_samples_leaf': [5, 10, 20, 50, 100],\n",
    "    'criterion': [\"gini\", \"entropy\"]\n",
    "}\n",
    "dt = DecisionTreeClassifier()\n",
    "cm2 = GridSearchCV(estimator=dt, param_grid=params, cv=4, n_jobs=-1, verbose = 1,scoring = \"accuracy\")\n",
    "\n",
    "cm2.fit(Xtrain, Ytrain)\n",
    "YPred = cm2.predict(Xtest) \n",
    "accuracy = accuracy_score(Ytest,YPred)\n",
    "print(accuracy)\n",
    "\n"
   ]
  },
  {
   "cell_type": "code",
   "execution_count": null,
   "metadata": {
    "gradient": {
     "editing": false,
     "id": "f4014a83-a047-4025-a408-e3fcffac4e6e",
     "kernelId": "7fd6bba4-1c21-4a38-bc94-1084ee9d4c17",
     "source_hidden": false
    }
   },
   "outputs": [],
   "source": [
    "dt_best = cm2.best_estimator_"
   ]
  },
  {
   "cell_type": "markdown",
   "metadata": {
    "gradient": {
     "editing": false,
     "id": "8b927a7e-e23a-4636-a363-29655e9b4243",
     "kernelId": "7fd6bba4-1c21-4a38-bc94-1084ee9d4c17"
    }
   },
   "source": [
    "### After you've built the best model you can, now it's time to visualize it!"
   ]
  },
  {
   "cell_type": "markdown",
   "metadata": {
    "gradient": {
     "editing": false,
     "id": "dce1359d-87b0-43aa-bc7f-324ce42d949c",
     "kernelId": "7fd6bba4-1c21-4a38-bc94-1084ee9d4c17"
    }
   },
   "source": [
    "Rememeber that amazing blog post from a few paragraphs ago, that demonstrated how to visualize and interpret the results of your Decision Tree model. We've seen that this can perform very well, but let's see how it does on the \"German Credit\" dataset that we're working on, due to it being a bit larger than the one used by the blog authors."
   ]
  },
  {
   "cell_type": "markdown",
   "metadata": {
    "gradient": {
     "editing": false,
     "id": "4a43ac32-055f-4381-b148-7fa1cf96f123",
     "kernelId": "7fd6bba4-1c21-4a38-bc94-1084ee9d4c17"
    }
   },
   "source": [
    "First, we're going to need to install their package. If you're using Anaconda, this can be done easily by running:"
   ]
  },
  {
   "cell_type": "code",
   "execution_count": null,
   "metadata": {
    "gradient": {
     "editing": false,
     "id": "93fbff40-ac5a-46b5-bab6-ded34ec8648b",
     "kernelId": "7fd6bba4-1c21-4a38-bc94-1084ee9d4c17"
    }
   },
   "outputs": [
    {
     "name": "stdout",
     "output_type": "stream",
     "text": [
      "Collecting dtreeviz\n",
      "  Downloading dtreeviz-1.3.3.tar.gz (61 kB)\n",
      "\u001b[K     |████████████████████████████████| 61 kB 2.4 kB/s eta 0:00:011\n",
      "\u001b[?25hCollecting graphviz>=0.9\n",
      "  Downloading graphviz-0.19.1-py3-none-any.whl (46 kB)\n",
      "\u001b[K     |████████████████████████████████| 46 kB 6.1 MB/s  eta 0:00:01\n",
      "\u001b[?25hRequirement already satisfied: pandas in /opt/conda/envs/springboard/lib/python3.7/site-packages (from dtreeviz) (1.3.4)\n",
      "Requirement already satisfied: numpy in /opt/conda/envs/springboard/lib/python3.7/site-packages (from dtreeviz) (1.20.3)\n",
      "Requirement already satisfied: scikit-learn in /opt/conda/envs/springboard/lib/python3.7/site-packages (from dtreeviz) (1.0.2)\n",
      "Requirement already satisfied: matplotlib in /opt/conda/envs/springboard/lib/python3.7/site-packages (from dtreeviz) (3.5.1)\n",
      "Collecting colour\n",
      "  Downloading colour-0.1.5-py2.py3-none-any.whl (23 kB)\n",
      "Requirement already satisfied: pytest in /opt/conda/envs/springboard/lib/python3.7/site-packages (from dtreeviz) (6.2.5)\n",
      "Requirement already satisfied: pyparsing>=2.2.1 in /opt/conda/envs/springboard/lib/python3.7/site-packages (from matplotlib->dtreeviz) (3.0.4)\n",
      "Requirement already satisfied: kiwisolver>=1.0.1 in /opt/conda/envs/springboard/lib/python3.7/site-packages (from matplotlib->dtreeviz) (1.3.2)\n",
      "Requirement already satisfied: python-dateutil>=2.7 in /opt/conda/envs/springboard/lib/python3.7/site-packages (from matplotlib->dtreeviz) (2.8.2)\n",
      "Requirement already satisfied: packaging>=20.0 in /opt/conda/envs/springboard/lib/python3.7/site-packages (from matplotlib->dtreeviz) (21.3)\n",
      "Requirement already satisfied: fonttools>=4.22.0 in /opt/conda/envs/springboard/lib/python3.7/site-packages (from matplotlib->dtreeviz) (4.25.0)\n",
      "Requirement already satisfied: cycler>=0.10 in /opt/conda/envs/springboard/lib/python3.7/site-packages (from matplotlib->dtreeviz) (0.11.0)\n",
      "Requirement already satisfied: pillow>=6.2.0 in /opt/conda/envs/springboard/lib/python3.7/site-packages (from matplotlib->dtreeviz) (8.4.0)\n",
      "Requirement already satisfied: six>=1.5 in /opt/conda/envs/springboard/lib/python3.7/site-packages (from python-dateutil>=2.7->matplotlib->dtreeviz) (1.16.0)\n",
      "Requirement already satisfied: pytz>=2017.3 in /opt/conda/envs/springboard/lib/python3.7/site-packages (from pandas->dtreeviz) (2021.3)\n",
      "Requirement already satisfied: attrs>=19.2.0 in /opt/conda/envs/springboard/lib/python3.7/site-packages (from pytest->dtreeviz) (21.4.0)\n",
      "Requirement already satisfied: iniconfig in /opt/conda/envs/springboard/lib/python3.7/site-packages (from pytest->dtreeviz) (1.1.1)\n",
      "Requirement already satisfied: pluggy<2.0,>=0.12 in /opt/conda/envs/springboard/lib/python3.7/site-packages (from pytest->dtreeviz) (1.0.0)\n",
      "Requirement already satisfied: py>=1.8.2 in /opt/conda/envs/springboard/lib/python3.7/site-packages (from pytest->dtreeviz) (1.11.0)\n",
      "Requirement already satisfied: toml in /opt/conda/envs/springboard/lib/python3.7/site-packages (from pytest->dtreeviz) (0.10.2)\n",
      "Requirement already satisfied: importlib-metadata>=0.12 in /opt/conda/envs/springboard/lib/python3.7/site-packages (from pytest->dtreeviz) (4.8.2)\n",
      "Requirement already satisfied: typing-extensions>=3.6.4 in /opt/conda/envs/springboard/lib/python3.7/site-packages (from importlib-metadata>=0.12->pytest->dtreeviz) (3.10.0.2)\n",
      "Requirement already satisfied: zipp>=0.5 in /opt/conda/envs/springboard/lib/python3.7/site-packages (from importlib-metadata>=0.12->pytest->dtreeviz) (3.7.0)\n",
      "Requirement already satisfied: joblib>=0.11 in /opt/conda/envs/springboard/lib/python3.7/site-packages (from scikit-learn->dtreeviz) (1.1.0)\n",
      "Requirement already satisfied: threadpoolctl>=2.0.0 in /opt/conda/envs/springboard/lib/python3.7/site-packages (from scikit-learn->dtreeviz) (2.2.0)\n",
      "Requirement already satisfied: scipy>=1.1.0 in /opt/conda/envs/springboard/lib/python3.7/site-packages (from scikit-learn->dtreeviz) (1.7.3)\n",
      "Building wheels for collected packages: dtreeviz\n",
      "  Building wheel for dtreeviz (setup.py) ... \u001b[?25ldone\n",
      "\u001b[?25h  Created wheel for dtreeviz: filename=dtreeviz-1.3.3-py3-none-any.whl size=67113 sha256=ef64d05da901f27b340bf749e34f998eb8a9419a92ab50b33bbcae99f1c1b06a\n",
      "  Stored in directory: /root/.cache/pip/wheels/58/9d/65/e57deb90bf5440945d74bc4c19ebb14a0de2ed2b508c609673\n",
      "Successfully built dtreeviz\n",
      "Installing collected packages: graphviz, colour, dtreeviz\n",
      "Successfully installed colour-0.1.5 dtreeviz-1.3.3 graphviz-0.19.1\n",
      "\u001b[33mWARNING: Running pip as the 'root' user can result in broken permissions and conflicting behaviour with the system package manager. It is recommended to use a virtual environment instead: https://pip.pypa.io/warnings/venv\u001b[0m\n"
     ]
    }
   ],
   "source": [
    "# ! pip install dtreeviz"
   ]
  },
  {
   "cell_type": "markdown",
   "metadata": {
    "gradient": {
     "editing": false,
     "id": "5b0bd7ff-4c03-41bc-b867-a45631d025b3",
     "kernelId": "7fd6bba4-1c21-4a38-bc94-1084ee9d4c17"
    }
   },
   "source": [
    "If for any reason this way of installing doesn't work for you straight out of the box, please refer to the more detailed documentation here: https://github.com/parrt/dtreeviz"
   ]
  },
  {
   "cell_type": "markdown",
   "metadata": {
    "gradient": {
     "editing": false,
     "id": "5c4e63af-40b5-4bb4-a214-d69a1d6a0c38",
     "kernelId": "7fd6bba4-1c21-4a38-bc94-1084ee9d4c17"
    }
   },
   "source": [
    "Now you're ready to visualize your Decision Tree model! Please feel free to use the blog post for guidance and inspiration!"
   ]
  },
  {
   "cell_type": "code",
   "execution_count": null,
   "metadata": {
    "gradient": {
     "editing": false,
     "id": "f2a027ec-c88f-46c2-8f8a-dabc73063d4e",
     "kernelId": "7fd6bba4-1c21-4a38-bc94-1084ee9d4c17",
     "source_hidden": false
    }
   },
   "outputs": [
    {
     "name": "stdout",
     "output_type": "stream",
     "text": [
      "ERROR: unknown command \"reinstall\" - maybe you meant \"install\"\r\n"
     ]
    }
   ],
   "source": [
    "# ! conda uninstall graphviz\n",
    "# ! xcode-select --install\n",
    "# ! brew reinstall graphviz\n",
    "# ! rm ~/anaconda3/bin/dot\n",
    "# ! rm ~/anaconda3/bin/dot\n",
    "# ! pip install graphviz\n",
    "# ! type pip\n",
    "\n",
    "# ! conda install anaconda --all -y"
   ]
  },
  {
   "cell_type": "code",
   "execution_count": null,
   "metadata": {
    "gradient": {
     "editing": false,
     "id": "d219a707-faff-4e7c-a085-4c4cc54fa80a",
     "kernelId": "7fd6bba4-1c21-4a38-bc94-1084ee9d4c17"
    }
   },
   "outputs": [],
   "source": [
    "# Your code here! :)\n",
    "from dtreeviz.trees import *"
   ]
  },
  {
   "cell_type": "code",
   "execution_count": null,
   "metadata": {
    "gradient": {
     "editing": false,
     "id": "9ea735ad-45e9-418e-a10a-7fa25e012792",
     "kernelId": "7fd6bba4-1c21-4a38-bc94-1084ee9d4c17"
    }
   },
   "outputs": [
    {
     "ename": "ExecutableNotFound",
     "evalue": "failed to execute 'dot', make sure the Graphviz executables are on your systems' PATH",
     "output_type": "error",
     "traceback": [
      "\u001b[0;31m---------------------------------------------------------------------------\u001b[0m",
      "\u001b[0;31mFileNotFoundError\u001b[0m                         Traceback (most recent call last)",
      "\u001b[0;32m/opt/conda/envs/springboard/lib/python3.7/site-packages/graphviz/backend/execute.py\u001b[0m in \u001b[0;36mrun_check\u001b[0;34m(cmd, input_lines, encoding, capture_output, quiet, **kwargs)\u001b[0m\n\u001b[1;32m     84\u001b[0m         \u001b[0;32melse\u001b[0m\u001b[0;34m:\u001b[0m\u001b[0;34m\u001b[0m\u001b[0;34m\u001b[0m\u001b[0m\n\u001b[0;32m---> 85\u001b[0;31m             \u001b[0mproc\u001b[0m \u001b[0;34m=\u001b[0m \u001b[0msubprocess\u001b[0m\u001b[0;34m.\u001b[0m\u001b[0mrun\u001b[0m\u001b[0;34m(\u001b[0m\u001b[0mcmd\u001b[0m\u001b[0;34m,\u001b[0m \u001b[0;34m**\u001b[0m\u001b[0mkwargs\u001b[0m\u001b[0;34m)\u001b[0m\u001b[0;34m\u001b[0m\u001b[0;34m\u001b[0m\u001b[0m\n\u001b[0m\u001b[1;32m     86\u001b[0m     \u001b[0;32mexcept\u001b[0m \u001b[0mOSError\u001b[0m \u001b[0;32mas\u001b[0m \u001b[0me\u001b[0m\u001b[0;34m:\u001b[0m\u001b[0;34m\u001b[0m\u001b[0;34m\u001b[0m\u001b[0m\n",
      "\u001b[0;32m/opt/conda/envs/springboard/lib/python3.7/subprocess.py\u001b[0m in \u001b[0;36mrun\u001b[0;34m(input, capture_output, timeout, check, *popenargs, **kwargs)\u001b[0m\n\u001b[1;32m    487\u001b[0m \u001b[0;34m\u001b[0m\u001b[0m\n\u001b[0;32m--> 488\u001b[0;31m     \u001b[0;32mwith\u001b[0m \u001b[0mPopen\u001b[0m\u001b[0;34m(\u001b[0m\u001b[0;34m*\u001b[0m\u001b[0mpopenargs\u001b[0m\u001b[0;34m,\u001b[0m \u001b[0;34m**\u001b[0m\u001b[0mkwargs\u001b[0m\u001b[0;34m)\u001b[0m \u001b[0;32mas\u001b[0m \u001b[0mprocess\u001b[0m\u001b[0;34m:\u001b[0m\u001b[0;34m\u001b[0m\u001b[0;34m\u001b[0m\u001b[0m\n\u001b[0m\u001b[1;32m    489\u001b[0m         \u001b[0;32mtry\u001b[0m\u001b[0;34m:\u001b[0m\u001b[0;34m\u001b[0m\u001b[0;34m\u001b[0m\u001b[0m\n",
      "\u001b[0;32m/opt/conda/envs/springboard/lib/python3.7/subprocess.py\u001b[0m in \u001b[0;36m__init__\u001b[0;34m(self, args, bufsize, executable, stdin, stdout, stderr, preexec_fn, close_fds, shell, cwd, env, universal_newlines, startupinfo, creationflags, restore_signals, start_new_session, pass_fds, encoding, errors, text)\u001b[0m\n\u001b[1;32m    799\u001b[0m                                 \u001b[0merrread\u001b[0m\u001b[0;34m,\u001b[0m \u001b[0merrwrite\u001b[0m\u001b[0;34m,\u001b[0m\u001b[0;34m\u001b[0m\u001b[0;34m\u001b[0m\u001b[0m\n\u001b[0;32m--> 800\u001b[0;31m                                 restore_signals, start_new_session)\n\u001b[0m\u001b[1;32m    801\u001b[0m         \u001b[0;32mexcept\u001b[0m\u001b[0;34m:\u001b[0m\u001b[0;34m\u001b[0m\u001b[0;34m\u001b[0m\u001b[0m\n",
      "\u001b[0;32m/opt/conda/envs/springboard/lib/python3.7/subprocess.py\u001b[0m in \u001b[0;36m_execute_child\u001b[0;34m(self, args, executable, preexec_fn, close_fds, pass_fds, cwd, env, startupinfo, creationflags, shell, p2cread, p2cwrite, c2pread, c2pwrite, errread, errwrite, restore_signals, start_new_session)\u001b[0m\n\u001b[1;32m   1550\u001b[0m                             \u001b[0merr_msg\u001b[0m \u001b[0;34m+=\u001b[0m \u001b[0;34m': '\u001b[0m \u001b[0;34m+\u001b[0m \u001b[0mrepr\u001b[0m\u001b[0;34m(\u001b[0m\u001b[0merr_filename\u001b[0m\u001b[0;34m)\u001b[0m\u001b[0;34m\u001b[0m\u001b[0;34m\u001b[0m\u001b[0m\n\u001b[0;32m-> 1551\u001b[0;31m                     \u001b[0;32mraise\u001b[0m \u001b[0mchild_exception_type\u001b[0m\u001b[0;34m(\u001b[0m\u001b[0merrno_num\u001b[0m\u001b[0;34m,\u001b[0m \u001b[0merr_msg\u001b[0m\u001b[0;34m,\u001b[0m \u001b[0merr_filename\u001b[0m\u001b[0;34m)\u001b[0m\u001b[0;34m\u001b[0m\u001b[0;34m\u001b[0m\u001b[0m\n\u001b[0m\u001b[1;32m   1552\u001b[0m                 \u001b[0;32mraise\u001b[0m \u001b[0mchild_exception_type\u001b[0m\u001b[0;34m(\u001b[0m\u001b[0merr_msg\u001b[0m\u001b[0;34m)\u001b[0m\u001b[0;34m\u001b[0m\u001b[0;34m\u001b[0m\u001b[0m\n",
      "\u001b[0;31mFileNotFoundError\u001b[0m: [Errno 2] No such file or directory: 'dot': 'dot'",
      "\nThe above exception was the direct cause of the following exception:\n",
      "\u001b[0;31mExecutableNotFound\u001b[0m                        Traceback (most recent call last)",
      "\u001b[0;32m/opt/conda/envs/springboard/lib/python3.7/site-packages/IPython/core/formatters.py\u001b[0m in \u001b[0;36m__call__\u001b[0;34m(self, obj)\u001b[0m\n\u001b[1;32m    343\u001b[0m             \u001b[0mmethod\u001b[0m \u001b[0;34m=\u001b[0m \u001b[0mget_real_method\u001b[0m\u001b[0;34m(\u001b[0m\u001b[0mobj\u001b[0m\u001b[0;34m,\u001b[0m \u001b[0mself\u001b[0m\u001b[0;34m.\u001b[0m\u001b[0mprint_method\u001b[0m\u001b[0;34m)\u001b[0m\u001b[0;34m\u001b[0m\u001b[0;34m\u001b[0m\u001b[0m\n\u001b[1;32m    344\u001b[0m             \u001b[0;32mif\u001b[0m \u001b[0mmethod\u001b[0m \u001b[0;32mis\u001b[0m \u001b[0;32mnot\u001b[0m \u001b[0;32mNone\u001b[0m\u001b[0;34m:\u001b[0m\u001b[0;34m\u001b[0m\u001b[0;34m\u001b[0m\u001b[0m\n\u001b[0;32m--> 345\u001b[0;31m                 \u001b[0;32mreturn\u001b[0m \u001b[0mmethod\u001b[0m\u001b[0;34m(\u001b[0m\u001b[0;34m)\u001b[0m\u001b[0;34m\u001b[0m\u001b[0;34m\u001b[0m\u001b[0m\n\u001b[0m\u001b[1;32m    346\u001b[0m             \u001b[0;32mreturn\u001b[0m \u001b[0;32mNone\u001b[0m\u001b[0;34m\u001b[0m\u001b[0;34m\u001b[0m\u001b[0m\n\u001b[1;32m    347\u001b[0m         \u001b[0;32melse\u001b[0m\u001b[0;34m:\u001b[0m\u001b[0;34m\u001b[0m\u001b[0;34m\u001b[0m\u001b[0m\n",
      "\u001b[0;32m/opt/conda/envs/springboard/lib/python3.7/site-packages/dtreeviz/trees.py\u001b[0m in \u001b[0;36m_repr_svg_\u001b[0;34m(self)\u001b[0m\n\u001b[1;32m     35\u001b[0m \u001b[0;34m\u001b[0m\u001b[0m\n\u001b[1;32m     36\u001b[0m     \u001b[0;32mdef\u001b[0m \u001b[0m_repr_svg_\u001b[0m\u001b[0;34m(\u001b[0m\u001b[0mself\u001b[0m\u001b[0;34m)\u001b[0m\u001b[0;34m:\u001b[0m\u001b[0;34m\u001b[0m\u001b[0;34m\u001b[0m\u001b[0m\n\u001b[0;32m---> 37\u001b[0;31m         \u001b[0;32mreturn\u001b[0m \u001b[0mself\u001b[0m\u001b[0;34m.\u001b[0m\u001b[0msvg\u001b[0m\u001b[0;34m(\u001b[0m\u001b[0;34m)\u001b[0m\u001b[0;34m\u001b[0m\u001b[0;34m\u001b[0m\u001b[0m\n\u001b[0m\u001b[1;32m     38\u001b[0m \u001b[0;34m\u001b[0m\u001b[0m\n\u001b[1;32m     39\u001b[0m     \u001b[0;32mdef\u001b[0m \u001b[0msvg\u001b[0m\u001b[0;34m(\u001b[0m\u001b[0mself\u001b[0m\u001b[0;34m)\u001b[0m\u001b[0;34m:\u001b[0m\u001b[0;34m\u001b[0m\u001b[0;34m\u001b[0m\u001b[0m\n",
      "\u001b[0;32m/opt/conda/envs/springboard/lib/python3.7/site-packages/dtreeviz/trees.py\u001b[0m in \u001b[0;36msvg\u001b[0;34m(self)\u001b[0m\n\u001b[1;32m     39\u001b[0m     \u001b[0;32mdef\u001b[0m \u001b[0msvg\u001b[0m\u001b[0;34m(\u001b[0m\u001b[0mself\u001b[0m\u001b[0;34m)\u001b[0m\u001b[0;34m:\u001b[0m\u001b[0;34m\u001b[0m\u001b[0;34m\u001b[0m\u001b[0m\n\u001b[1;32m     40\u001b[0m         \u001b[0;34m\"\"\"Render tree as svg and return svg text.\"\"\"\u001b[0m\u001b[0;34m\u001b[0m\u001b[0;34m\u001b[0m\u001b[0m\n\u001b[0;32m---> 41\u001b[0;31m         \u001b[0msvgfilename\u001b[0m \u001b[0;34m=\u001b[0m \u001b[0mself\u001b[0m\u001b[0;34m.\u001b[0m\u001b[0msave_svg\u001b[0m\u001b[0;34m(\u001b[0m\u001b[0;34m)\u001b[0m\u001b[0;34m\u001b[0m\u001b[0;34m\u001b[0m\u001b[0m\n\u001b[0m\u001b[1;32m     42\u001b[0m         \u001b[0;32mwith\u001b[0m \u001b[0mopen\u001b[0m\u001b[0;34m(\u001b[0m\u001b[0msvgfilename\u001b[0m\u001b[0;34m,\u001b[0m \u001b[0mencoding\u001b[0m\u001b[0;34m=\u001b[0m\u001b[0;34m'UTF-8'\u001b[0m\u001b[0;34m)\u001b[0m \u001b[0;32mas\u001b[0m \u001b[0mf\u001b[0m\u001b[0;34m:\u001b[0m\u001b[0;34m\u001b[0m\u001b[0;34m\u001b[0m\u001b[0m\n\u001b[1;32m     43\u001b[0m             \u001b[0msvg\u001b[0m \u001b[0;34m=\u001b[0m \u001b[0mf\u001b[0m\u001b[0;34m.\u001b[0m\u001b[0mread\u001b[0m\u001b[0;34m(\u001b[0m\u001b[0;34m)\u001b[0m\u001b[0;34m\u001b[0m\u001b[0;34m\u001b[0m\u001b[0m\n",
      "\u001b[0;32m/opt/conda/envs/springboard/lib/python3.7/site-packages/dtreeviz/trees.py\u001b[0m in \u001b[0;36msave_svg\u001b[0;34m(self)\u001b[0m\n\u001b[1;32m     52\u001b[0m         \u001b[0mtmp\u001b[0m \u001b[0;34m=\u001b[0m \u001b[0mtempfile\u001b[0m\u001b[0;34m.\u001b[0m\u001b[0mgettempdir\u001b[0m\u001b[0;34m(\u001b[0m\u001b[0;34m)\u001b[0m\u001b[0;34m\u001b[0m\u001b[0;34m\u001b[0m\u001b[0m\n\u001b[1;32m     53\u001b[0m         \u001b[0msvgfilename\u001b[0m \u001b[0;34m=\u001b[0m \u001b[0mos\u001b[0m\u001b[0;34m.\u001b[0m\u001b[0mpath\u001b[0m\u001b[0;34m.\u001b[0m\u001b[0mjoin\u001b[0m\u001b[0;34m(\u001b[0m\u001b[0mtmp\u001b[0m\u001b[0;34m,\u001b[0m \u001b[0;34mf\"DTreeViz_{os.getpid()}.svg\"\u001b[0m\u001b[0;34m)\u001b[0m\u001b[0;34m\u001b[0m\u001b[0;34m\u001b[0m\u001b[0m\n\u001b[0;32m---> 54\u001b[0;31m         \u001b[0mself\u001b[0m\u001b[0;34m.\u001b[0m\u001b[0msave\u001b[0m\u001b[0;34m(\u001b[0m\u001b[0msvgfilename\u001b[0m\u001b[0;34m)\u001b[0m\u001b[0;34m\u001b[0m\u001b[0;34m\u001b[0m\u001b[0m\n\u001b[0m\u001b[1;32m     55\u001b[0m         \u001b[0;32mreturn\u001b[0m \u001b[0msvgfilename\u001b[0m\u001b[0;34m\u001b[0m\u001b[0;34m\u001b[0m\u001b[0m\n\u001b[1;32m     56\u001b[0m \u001b[0;34m\u001b[0m\u001b[0m\n",
      "\u001b[0;32m/opt/conda/envs/springboard/lib/python3.7/site-packages/dtreeviz/trees.py\u001b[0m in \u001b[0;36msave\u001b[0;34m(self, filename)\u001b[0m\n\u001b[1;32m     80\u001b[0m             \u001b[0mgraphviz\u001b[0m\u001b[0;34m.\u001b[0m\u001b[0mbackend\u001b[0m\u001b[0;34m.\u001b[0m\u001b[0mrun\u001b[0m\u001b[0;34m(\u001b[0m\u001b[0mcmd\u001b[0m\u001b[0;34m,\u001b[0m \u001b[0mcapture_output\u001b[0m\u001b[0;34m=\u001b[0m\u001b[0;32mTrue\u001b[0m\u001b[0;34m,\u001b[0m \u001b[0mcheck\u001b[0m\u001b[0;34m=\u001b[0m\u001b[0;32mTrue\u001b[0m\u001b[0;34m,\u001b[0m \u001b[0mquiet\u001b[0m\u001b[0;34m=\u001b[0m\u001b[0;32mFalse\u001b[0m\u001b[0;34m)\u001b[0m\u001b[0;34m\u001b[0m\u001b[0;34m\u001b[0m\u001b[0m\n\u001b[1;32m     81\u001b[0m         \u001b[0;32melse\u001b[0m\u001b[0;34m:\u001b[0m\u001b[0;34m\u001b[0m\u001b[0;34m\u001b[0m\u001b[0m\n\u001b[0;32m---> 82\u001b[0;31m             \u001b[0mgraphviz\u001b[0m\u001b[0;34m.\u001b[0m\u001b[0mbackend\u001b[0m\u001b[0;34m.\u001b[0m\u001b[0mexecute\u001b[0m\u001b[0;34m.\u001b[0m\u001b[0mrun_check\u001b[0m\u001b[0;34m(\u001b[0m\u001b[0mcmd\u001b[0m\u001b[0;34m,\u001b[0m \u001b[0mcapture_output\u001b[0m\u001b[0;34m=\u001b[0m\u001b[0;32mTrue\u001b[0m\u001b[0;34m,\u001b[0m \u001b[0mcheck\u001b[0m\u001b[0;34m=\u001b[0m\u001b[0;32mTrue\u001b[0m\u001b[0;34m,\u001b[0m \u001b[0mquiet\u001b[0m\u001b[0;34m=\u001b[0m\u001b[0;32mFalse\u001b[0m\u001b[0;34m)\u001b[0m\u001b[0;34m\u001b[0m\u001b[0;34m\u001b[0m\u001b[0m\n\u001b[0m\u001b[1;32m     83\u001b[0m \u001b[0;34m\u001b[0m\u001b[0m\n\u001b[1;32m     84\u001b[0m         \u001b[0;32mif\u001b[0m \u001b[0mfilename\u001b[0m\u001b[0;34m.\u001b[0m\u001b[0mendswith\u001b[0m\u001b[0;34m(\u001b[0m\u001b[0;34m\".svg\"\u001b[0m\u001b[0;34m)\u001b[0m\u001b[0;34m:\u001b[0m\u001b[0;34m\u001b[0m\u001b[0;34m\u001b[0m\u001b[0m\n",
      "\u001b[0;32m/opt/conda/envs/springboard/lib/python3.7/site-packages/graphviz/backend/execute.py\u001b[0m in \u001b[0;36mrun_check\u001b[0;34m(cmd, input_lines, encoding, capture_output, quiet, **kwargs)\u001b[0m\n\u001b[1;32m     86\u001b[0m     \u001b[0;32mexcept\u001b[0m \u001b[0mOSError\u001b[0m \u001b[0;32mas\u001b[0m \u001b[0me\u001b[0m\u001b[0;34m:\u001b[0m\u001b[0;34m\u001b[0m\u001b[0;34m\u001b[0m\u001b[0m\n\u001b[1;32m     87\u001b[0m         \u001b[0;32mif\u001b[0m \u001b[0me\u001b[0m\u001b[0;34m.\u001b[0m\u001b[0merrno\u001b[0m \u001b[0;34m==\u001b[0m \u001b[0merrno\u001b[0m\u001b[0;34m.\u001b[0m\u001b[0mENOENT\u001b[0m\u001b[0;34m:\u001b[0m\u001b[0;34m\u001b[0m\u001b[0;34m\u001b[0m\u001b[0m\n\u001b[0;32m---> 88\u001b[0;31m             \u001b[0;32mraise\u001b[0m \u001b[0mExecutableNotFound\u001b[0m\u001b[0;34m(\u001b[0m\u001b[0mcmd\u001b[0m\u001b[0;34m)\u001b[0m \u001b[0;32mfrom\u001b[0m \u001b[0me\u001b[0m\u001b[0;34m\u001b[0m\u001b[0;34m\u001b[0m\u001b[0m\n\u001b[0m\u001b[1;32m     89\u001b[0m         \u001b[0;32mraise\u001b[0m\u001b[0;34m\u001b[0m\u001b[0;34m\u001b[0m\u001b[0m\n\u001b[1;32m     90\u001b[0m \u001b[0;34m\u001b[0m\u001b[0m\n",
      "\u001b[0;31mExecutableNotFound\u001b[0m: failed to execute 'dot', make sure the Graphviz executables are on your systems' PATH"
     ]
    },
    {
     "data": {
      "text/plain": [
       "<dtreeviz.trees.DTreeViz at 0x7f94948ded10>"
      ]
     },
     "execution_count": 25,
     "metadata": {},
     "output_type": "execute_result"
    }
   ],
   "source": [
    "viz = dtreeviz(dt_best, Xtrain, Ytrain, target_name='Class', feature_names=list(x.columns))\n",
    "viz"
   ]
  },
  {
   "cell_type": "markdown",
   "metadata": {
    "gradient": {
     "editing": false,
     "id": "83b8fa45-34d4-431b-b390-d2bf8870263b",
     "kernelId": "7fd6bba4-1c21-4a38-bc94-1084ee9d4c17"
    }
   },
   "source": [
    "## Random Forests"
   ]
  },
  {
   "cell_type": "markdown",
   "metadata": {
    "gradient": {
     "editing": false,
     "id": "6e8a423b-671f-43f3-b795-955af5b1be56",
     "kernelId": "7fd6bba4-1c21-4a38-bc94-1084ee9d4c17"
    }
   },
   "source": [
    "As discussed in the lecture videos, Decision Tree algorithms also have certain undesireable properties. Mainly the have low bias, which is good, but tend to have high variance - which is *not* so good (more about this problem here: https://en.wikipedia.org/wiki/Bias%E2%80%93variance_tradeoff)."
   ]
  },
  {
   "cell_type": "markdown",
   "metadata": {
    "gradient": {
     "editing": false,
     "id": "d8f59b0a-3300-499d-a4e0-6384a83ab1dc",
     "kernelId": "7fd6bba4-1c21-4a38-bc94-1084ee9d4c17"
    }
   },
   "source": [
    "Noticing these problems, the late Professor Leo Breiman, in 2001, developed the Random Forests algorithm, which mitigates these problems, while at the same time providing even higher predictive accuracy than the majority of Decision Tree algorithm implementations. While the curriculum contains two excellent lectures on Random Forests, if you're interested, you can dive into the original paper here: https://link.springer.com/content/pdf/10.1023%2FA%3A1010933404324.pdf."
   ]
  },
  {
   "cell_type": "markdown",
   "metadata": {
    "gradient": {
     "editing": false,
     "id": "92de9557-8a87-4981-8b36-844201d1ca46",
     "kernelId": "7fd6bba4-1c21-4a38-bc94-1084ee9d4c17"
    }
   },
   "source": [
    "In the next part of this assignment, your are going to use the same \"German Credit\" dataset to train, tune, and measure the performance of a Random Forests model. You will also see certain functionalities that this model, even though it's a bit of a \"black box\", provides for some degree of interpretability."
   ]
  },
  {
   "cell_type": "markdown",
   "metadata": {
    "gradient": {
     "editing": false,
     "id": "be2bd697-072d-4791-845f-3dab9010ad70",
     "kernelId": "7fd6bba4-1c21-4a38-bc94-1084ee9d4c17"
    }
   },
   "source": [
    "First, let's build a Random Forests model, using the same best practices that you've used for your Decision Trees model. You can reuse the things you've already imported there, so no need to do any re-imports, new train/test splits, or loading up the data again."
   ]
  },
  {
   "cell_type": "code",
   "execution_count": null,
   "metadata": {
    "gradient": {
     "editing": false,
     "id": "25b1a622-912d-45d5-87c6-8760a3d1caba",
     "kernelId": "7fd6bba4-1c21-4a38-bc94-1084ee9d4c17"
    }
   },
   "outputs": [],
   "source": [
    "from sklearn.ensemble import RandomForestClassifier"
   ]
  },
  {
   "cell_type": "code",
   "execution_count": null,
   "metadata": {
    "gradient": {
     "editing": false,
     "id": "09c5fac3-8f74-4699-908d-9b713a8ade11",
     "kernelId": "7fd6bba4-1c21-4a38-bc94-1084ee9d4c17"
    }
   },
   "outputs": [],
   "source": [
    "# Your code here! :)\n"
   ]
  },
  {
   "cell_type": "markdown",
   "metadata": {
    "gradient": {
     "editing": false,
     "id": "883902f0-2409-4e85-858d-6f67b83ead2b",
     "kernelId": "7fd6bba4-1c21-4a38-bc94-1084ee9d4c17"
    }
   },
   "source": [
    "As mentioned, there are certain ways to \"peek\" into a model created by the Random Forests algorithm. The first, and most popular one, is the Feature Importance calculation functionality. This allows the ML practitioner to see an ordering of the importance of the features that have contributed the most to the predictive accuracy of the model. \n",
    "\n",
    "You can see how to use this in the scikit-learn documentation (http://scikit-learn.org/stable/modules/generated/sklearn.ensemble.RandomForestClassifier.html#sklearn.ensemble.RandomForestClassifier.feature_importances_). Now, if you tried this, you would just get an ordered table of not directly interpretable numeric values. Thus, it's much more useful to show the feature importance in a visual way. You can see an example of how that's done here: http://scikit-learn.org/stable/auto_examples/ensemble/plot_forest_importances.html#sphx-glr-auto-examples-ensemble-plot-forest-importances-py\n",
    "\n",
    "Now you try! Let's visualize the importance of features from your Random Forests model!"
   ]
  },
  {
   "cell_type": "code",
   "execution_count": null,
   "metadata": {
    "gradient": {
     "editing": false,
     "id": "08de1db7-d7c5-40c0-bef2-98e575481256",
     "kernelId": "7fd6bba4-1c21-4a38-bc94-1084ee9d4c17"
    }
   },
   "outputs": [],
   "source": [
    "# Your code here"
   ]
  },
  {
   "cell_type": "markdown",
   "metadata": {
    "gradient": {
     "editing": false,
     "id": "ae461104-3a33-42df-84f6-4fd647cf438e",
     "kernelId": "7fd6bba4-1c21-4a38-bc94-1084ee9d4c17"
    }
   },
   "source": [
    "A final method for gaining some insight into the inner working of your Random Forests models is a so-called Partial Dependence Plot. The Partial Dependence Plot (PDP or PD plot) shows the marginal effect of a feature on the predicted outcome of a previously fit model. The prediction function is fixed at a few values of the chosen features and averaged over the other features. A partial dependence plot can show if the relationship between the target and a feature is linear, monotonic or more complex. \n",
    "\n",
    "In scikit-learn, PDPs are implemented and available for certain algorithms, but at this point (version 0.20.0) they are not yet implemented for Random Forests. Thankfully, there is an add-on package called **PDPbox** (https://pdpbox.readthedocs.io/en/latest/) which adds this functionality to Random Forests. The package is easy to install through pip."
   ]
  },
  {
   "cell_type": "code",
   "execution_count": null,
   "metadata": {
    "gradient": {
     "editing": false,
     "id": "1c76ff09-7d6b-42d3-9fb9-e3ca6c074385",
     "kernelId": "7fd6bba4-1c21-4a38-bc94-1084ee9d4c17"
    }
   },
   "outputs": [],
   "source": [
    "# ! pip install pdpbox"
   ]
  },
  {
   "cell_type": "markdown",
   "metadata": {
    "gradient": {
     "editing": false,
     "id": "1dec4a7b-0949-4f4e-81e8-f46d64833874",
     "kernelId": "7fd6bba4-1c21-4a38-bc94-1084ee9d4c17"
    }
   },
   "source": [
    "While we encourage you to read the documentation for the package (and reading package documentation in general is a good habit to develop), the authors of the package have also written an excellent blog post on how to use it, showing examples on different algorithms from scikit-learn (the Random Forests example is towards the end of the blog post): https://briangriner.github.io/Partial_Dependence_Plots_presentation-BrianGriner-PrincetonPublicLibrary-4.14.18-updated-4.22.18.html"
   ]
  },
  {
   "cell_type": "markdown",
   "metadata": {
    "gradient": {
     "editing": false,
     "id": "5ab01105-7085-4281-af46-06fce9fb53e8",
     "kernelId": "7fd6bba4-1c21-4a38-bc94-1084ee9d4c17"
    }
   },
   "source": [
    "So, armed with this new knowledge, feel free to pick a few features, and make a couple of Partial Dependence Plots of your own!"
   ]
  },
  {
   "cell_type": "code",
   "execution_count": null,
   "metadata": {
    "gradient": {
     "editing": false,
     "id": "3c45a68a-0c48-4c33-a3c4-208da1801c3c",
     "kernelId": "7fd6bba4-1c21-4a38-bc94-1084ee9d4c17"
    }
   },
   "outputs": [],
   "source": [
    "# Your code here!"
   ]
  },
  {
   "cell_type": "markdown",
   "metadata": {
    "gradient": {
     "editing": false,
     "id": "ed9b4246-83d0-4af1-9018-2bb7b42aa44b",
     "kernelId": "7fd6bba4-1c21-4a38-bc94-1084ee9d4c17"
    }
   },
   "source": [
    "## (Optional) Advanced Boosting-Based Algorithms"
   ]
  },
  {
   "cell_type": "markdown",
   "metadata": {
    "gradient": {
     "editing": false,
     "id": "233b0c47-c7b5-49bb-93cb-44b53d1aea9d",
     "kernelId": "7fd6bba4-1c21-4a38-bc94-1084ee9d4c17"
    }
   },
   "source": [
    "As explained in the video lectures, the next generation of algorithms after Random Forests (that use Bagging, a.k.a. Bootstrap Aggregation) were developed using Boosting, and the first one of these were Gradient Boosted Machines, which are implemented in scikit-learn (http://scikit-learn.org/stable/modules/ensemble.html#gradient-tree-boosting)."
   ]
  },
  {
   "cell_type": "markdown",
   "metadata": {
    "gradient": {
     "editing": false,
     "id": "5028b62a-b6ad-40d8-ac89-9b228756fef1",
     "kernelId": "7fd6bba4-1c21-4a38-bc94-1084ee9d4c17"
    }
   },
   "source": [
    "Still, in recent years, a number of variations on GBMs have been developed by different research amd industry groups, all of them bringing improvements, both in speed, accuracy and functionality to the original Gradient Boosting algorithms.\n",
    "\n",
    "In no order of preference, these are:\n",
    "1. **XGBoost**: https://xgboost.readthedocs.io/en/latest/\n",
    "2. **CatBoost**: https://tech.yandex.com/catboost/\n",
    "3. **LightGBM**: https://lightgbm.readthedocs.io/en/latest/"
   ]
  },
  {
   "cell_type": "markdown",
   "metadata": {
    "gradient": {
     "editing": false,
     "id": "03493d20-2d06-4d0a-9333-014ec87edd3e",
     "kernelId": "7fd6bba4-1c21-4a38-bc94-1084ee9d4c17"
    }
   },
   "source": [
    "If you're using the Anaconda distribution, these are all very easy to install:"
   ]
  },
  {
   "cell_type": "code",
   "execution_count": null,
   "metadata": {
    "gradient": {
     "editing": false,
     "id": "99c60b6a-3453-4e69-8290-be87e5c6462a",
     "kernelId": "7fd6bba4-1c21-4a38-bc94-1084ee9d4c17"
    }
   },
   "outputs": [
    {
     "name": "stdout",
     "output_type": "stream",
     "text": [
      "Collecting package metadata (current_repodata.json): done\n",
      "Solving environment: done\n",
      "\n",
      "## Package Plan ##\n",
      "\n",
      "  environment location: /opt/conda/envs/springboard\n",
      "\n",
      "  added / updated specs:\n",
      "    - py-xgboost\n",
      "\n",
      "\n",
      "The following packages will be downloaded:\n",
      "\n",
      "    package                    |            build\n",
      "    ---------------------------|-----------------\n",
      "    _libgcc_mutex-0.1          |             main           3 KB  anaconda\n",
      "    _openmp_mutex-4.5          |            1_gnu          22 KB\n",
      "    _py-xgboost-mutex-2.0      |            cpu_0           9 KB  anaconda\n",
      "    _tflow_select-2.1.0        |              gpu           2 KB  anaconda\n",
      "    absl-py-0.10.0             |           py37_0         169 KB  anaconda\n",
      "    astor-0.8.1                |           py37_0          45 KB  anaconda\n",
      "    backports-1.0              |             py_2         139 KB  anaconda\n",
      "    backports.functools_lru_cache-1.6.1|             py_0          11 KB  anaconda\n",
      "    backports.tempfile-1.0     |             py_1          12 KB  anaconda\n",
      "    backports.weakref-1.0.post1|             py_1           7 KB  anaconda\n",
      "    beautifulsoup4-4.9.3       |     pyhb0f4dca_0          87 KB  anaconda\n",
      "    brotlipy-0.7.0             |py37h7b6447c_1000         348 KB  anaconda\n",
      "    bzip2-1.0.8                |       h7b6447c_0         105 KB  anaconda\n",
      "    c-ares-1.16.1              |       h7b6447c_0         112 KB  anaconda\n",
      "    ca-certificates-2020.10.14 |                0         128 KB  anaconda\n",
      "    certifi-2020.6.20          |           py37_0         159 KB  anaconda\n",
      "    cffi-1.14.3                |   py37he30daa8_0         224 KB  anaconda\n",
      "    chardet-3.0.4              |        py37_1003         173 KB  anaconda\n",
      "    click-7.1.2                |             py_0          67 KB  anaconda\n",
      "    clyent-1.2.2               |           py37_1          18 KB  anaconda\n",
      "    conda-4.9.0                |           py37_0         3.1 MB  anaconda\n",
      "    conda-build-3.20.4         |           py37_1         576 KB  anaconda\n",
      "    conda-package-handling-1.7.2|   py37h03888b9_0         977 KB  anaconda\n",
      "    conda-verify-3.4.2         |             py_1          25 KB  anaconda\n",
      "    cryptography-3.1.1         |   py37h1ba5d50_0         625 KB  anaconda\n",
      "    cudatoolkit-10.0.130       |                0       380.0 MB  anaconda\n",
      "    cudnn-7.6.5                |       cuda10.0_0       226.4 MB  anaconda\n",
      "    dbus-1.13.18               |       hb2f20db_0         586 KB  anaconda\n",
      "    expat-2.2.10               |       he6710b0_2         192 KB  anaconda\n",
      "    filelock-3.0.12            |             py_0          12 KB  anaconda\n",
      "    fontconfig-2.13.0          |       h9420a91_0         291 KB  anaconda\n",
      "    freetype-2.10.4            |       h5ab3b9f_0         901 KB  anaconda\n",
      "    future-0.18.2              |           py37_1         720 KB  anaconda\n",
      "    gast-0.2.2                 |           py37_0         137 KB  anaconda\n",
      "    glib-2.56.2                |       hd408876_0         5.0 MB  anaconda\n",
      "    glob2-0.7                  |             py_0          14 KB  anaconda\n",
      "    google-pasta-0.2.0         |             py_0          44 KB  anaconda\n",
      "    grpcio-1.31.0              |   py37hf8bcb03_0         2.2 MB  anaconda\n",
      "    gst-plugins-base-1.14.0    |       hbbd80ab_1         6.3 MB  anaconda\n",
      "    gstreamer-1.14.0           |       hb453b48_1         3.8 MB  anaconda\n",
      "    h5py-2.10.0                |   py37hd6299e0_1         1.1 MB  anaconda\n",
      "    icu-58.2                   |       he6710b0_3        22.7 MB  anaconda\n",
      "    idna-2.10                  |             py_0          56 KB  anaconda\n",
      "    importlib-metadata-2.0.0   |             py_1          35 KB  anaconda\n",
      "    intel-openmp-2020.2        |              254         947 KB  anaconda\n",
      "    jinja2-2.11.2              |             py_0          97 KB  anaconda\n",
      "    joblib-0.17.0              |             py_0         205 KB  anaconda\n",
      "    jpeg-9b                    |       habf39ab_1         247 KB  anaconda\n",
      "    keras-applications-1.0.8   |             py_1          30 KB  anaconda\n",
      "    keras-preprocessing-1.1.0  |             py_1          36 KB  anaconda\n",
      "    krb5-1.18.2                |       h173b8e3_0         1.5 MB  anaconda\n",
      "    ld_impl_linux-64-2.33.1    |       h53a641e_7         645 KB  anaconda\n",
      "    libarchive-3.4.2           |       h62408e4_0         1.6 MB  anaconda\n",
      "    libcurl-7.71.1             |       h20c2e04_1         313 KB  anaconda\n",
      "    libedit-3.1.20191231       |       h14c3975_1         121 KB  anaconda\n",
      "    libffi-3.3                 |       he6710b0_2          54 KB  anaconda\n",
      "    libgcc-ng-9.3.0            |      h5101ec6_17         4.8 MB\n",
      "    libgfortran-ng-9.3.0       |      ha5ec8a7_17          22 KB\n",
      "    libgfortran5-9.3.0         |      ha5ec8a7_17         1.5 MB\n",
      "    libgomp-9.3.0              |      h5101ec6_17         311 KB\n",
      "    liblief-0.10.1             |       he6710b0_0         2.0 MB  anaconda\n",
      "    libpng-1.6.37              |       hbc83047_0         364 KB  anaconda\n",
      "    libprotobuf-3.13.0.1       |       hd408876_0         2.3 MB  anaconda\n",
      "    libspatialindex-1.9.3      |       he6710b0_0         3.1 MB  anaconda\n",
      "    libssh2-1.9.0              |       h1ba5d50_1         346 KB  anaconda\n",
      "    libstdcxx-ng-9.3.0         |      hd4cf53a_17         3.1 MB\n",
      "    libuuid-1.0.3              |       h1bed415_2          16 KB  anaconda\n",
      "    libxcb-1.14                |       h7b6447c_0         610 KB  anaconda\n",
      "    libxgboost-0.90            |       he6710b0_1         3.8 MB  anaconda\n",
      "    libxml2-2.9.10             |       hb55368b_3         1.3 MB  anaconda\n",
      "    lz4-c-1.9.2                |       heb0550a_3         203 KB  anaconda\n",
      "    markdown-3.3.2             |           py37_0         123 KB  anaconda\n",
      "    markupsafe-1.1.1           |   py37h14c3975_1          26 KB  anaconda\n",
      "    mkl-2019.4                 |              243       204.1 MB  anaconda\n",
      "    mkl-service-2.3.0          |   py37he904b0f_0         208 KB  anaconda\n",
      "    navigator-updater-0.2.1    |           py37_0         1.2 MB  anaconda\n",
      "    ncurses-6.2                |       he6710b0_1         1.1 MB  anaconda\n",
      "    openssl-1.1.1m             |       h7f8727e_0         2.5 MB\n",
      "    opt_einsum-3.1.0           |             py_0          54 KB  anaconda\n",
      "    patchelf-0.12              |       he6710b0_0          86 KB  anaconda\n",
      "    pcre-8.44                  |       he6710b0_0         269 KB  anaconda\n",
      "    pip-20.2.4                 |           py37_0         2.0 MB  anaconda\n",
      "    pkginfo-1.6.0              |           py37_0          41 KB  anaconda\n",
      "    protobuf-3.13.0.1          |   py37he6710b0_1         700 KB  anaconda\n",
      "    psutil-5.7.2               |   py37h7b6447c_0         342 KB  anaconda\n",
      "    py-lief-0.10.1             |   py37h403a769_0         1.2 MB  anaconda\n",
      "    py-xgboost-0.90            |   py37he6710b0_1          77 KB  anaconda\n",
      "    pycosat-0.6.3              |   py37h7b6447c_0         107 KB  anaconda\n",
      "    pycparser-2.20             |             py_2          94 KB  anaconda\n",
      "    pycurl-7.43.0.6            |   py37h1ba5d50_0          69 KB  anaconda\n",
      "    pyopenssl-19.1.0           |             py_1          47 KB  anaconda\n",
      "    pyqt-5.9.2                 |   py37h22d08a2_1         5.6 MB  anaconda\n",
      "    pysocks-1.7.1              |           py37_1          27 KB  anaconda\n",
      "    python-3.7.9               |       h7579374_0        52.8 MB  anaconda\n",
      "    python-libarchive-c-2.9    |             py_0          50 KB  anaconda\n",
      "    pytz-2020.1                |             py_0         239 KB  anaconda\n",
      "    pyyaml-5.3.1               |   py37h7b6447c_1         191 KB  anaconda\n",
      "    qt-5.9.7                   |       h5867ecd_1        85.9 MB  anaconda\n",
      "    qtpy-1.9.0                 |             py_0          39 KB  anaconda\n",
      "    readline-8.0               |       h7b6447c_0         428 KB  anaconda\n",
      "    requests-2.24.0            |             py_0          54 KB  anaconda\n",
      "    ripgrep-12.1.1             |                0         1.5 MB  anaconda\n",
      "    rtree-0.9.4                |           py37_1          48 KB  anaconda\n",
      "    ruamel_yaml-0.15.87        |   py37h7b6447c_1         253 KB  anaconda\n",
      "    scikit-learn-0.23.2        |   py37h0573a6f_0         6.9 MB  anaconda\n",
      "    setuptools-50.3.0          |   py37hb0f4dca_1         904 KB  anaconda\n",
      "    sip-4.19.24                |   py37he6710b0_0         297 KB  anaconda\n",
      "    six-1.15.0                 |             py_0          13 KB  anaconda\n",
      "    soupsieve-2.0.1            |             py_0          33 KB  anaconda\n",
      "    sqlite-3.33.0              |       h62c20be_0         2.0 MB  anaconda\n",
      "    termcolor-1.1.0            |           py37_1           7 KB  anaconda\n",
      "    threadpoolctl-2.1.0        |     pyh5ca1d4c_0          16 KB  anaconda\n",
      "    tk-8.6.10                  |       hbc83047_0         3.2 MB  anaconda\n",
      "    tqdm-4.50.2                |             py_0          55 KB  anaconda\n",
      "    urllib3-1.25.11            |             py_0          93 KB  anaconda\n",
      "    werkzeug-0.14.1            |           py37_0         423 KB  anaconda\n",
      "    wheel-0.35.1               |             py_0          36 KB  anaconda\n",
      "    wrapt-1.12.1               |   py37h7b6447c_1          50 KB  anaconda\n",
      "    xz-5.2.5                   |       h7b6447c_0         438 KB  anaconda\n",
      "    yaml-0.2.5                 |       h7b6447c_0          87 KB  anaconda\n",
      "    zipp-3.3.1                 |             py_0          11 KB  anaconda\n",
      "    zlib-1.2.11                |       h7b6447c_3         120 KB  anaconda\n",
      "    zstd-1.4.4                 |       h0b5b093_3        1006 KB  anaconda\n",
      "    ------------------------------------------------------------\n",
      "                                           Total:        1.04 GB\n",
      "\n",
      "The following NEW packages will be INSTALLED:\n",
      "\n",
      "  _py-xgboost-mutex  anaconda/linux-64::_py-xgboost-mutex-2.0-cpu_0\n",
      "  intel-openmp       anaconda/linux-64::intel-openmp-2020.2-254\n",
      "  joblib             anaconda/noarch::joblib-0.17.0-py_0\n",
      "  libgomp            pkgs/main/linux-64::libgomp-9.3.0-h5101ec6_17\n",
      "  libxgboost         anaconda/linux-64::libxgboost-0.90-he6710b0_1\n",
      "  py-xgboost         anaconda/linux-64::py-xgboost-0.90-py37he6710b0_1\n",
      "  scikit-learn       anaconda/linux-64::scikit-learn-0.23.2-py37h0573a6f_0\n",
      "  sip                anaconda/linux-64::sip-4.19.24-py37he6710b0_0\n",
      "  threadpoolctl      anaconda/noarch::threadpoolctl-2.1.0-pyh5ca1d4c_0\n",
      "\n",
      "The following packages will be REMOVED:\n",
      "\n",
      "  cached-property-1.5.1-py_0\n",
      "  gettext-0.19.8.1-h0b5b191_1005\n",
      "  libclang-11.0.0-default_ha5c780c_2\n",
      "  libev-4.33-h516909a_1\n",
      "  libevent-2.1.10-hcdb4288_3\n",
      "  libglib-2.66.4-h164308a_1\n",
      "  libiconv-1.16-h516909a_0\n",
      "  libllvm11-11.0.0-he513fc3_0\n",
      "  libnghttp2-1.41.0-h8cfc5f6_2\n",
      "  libpq-12.3-h255efa7_3\n",
      "  libxkbcommon-1.0.3-he3ba5ed_0\n",
      "  llvm-openmp-11.0.0-hfc4b9b4_1\n",
      "  lzo-2.10-h516909a_1000\n",
      "  mysql-common-8.0.22-ha770c72_1\n",
      "  mysql-libs-8.0.22-h1fd7589_1\n",
      "  nspr-4.29-h9c3ff4c_1\n",
      "  nss-3.60-hb5efdd6_0\n",
      "  pthread-stubs-0.4-h36c2ea0_1001\n",
      "  pyqt-impl-5.12.3-py37he336c9b_6\n",
      "  pyqt5-sip-4.19.18-py37hcd2ae1e_6\n",
      "  pyqtchart-5.12-py37he336c9b_6\n",
      "  pyqtwebengine-5.12.1-py37he336c9b_6\n",
      "  typing_extensions-3.7.4.3-py_0\n",
      "  xorg-libxau-1.0.9-h7f98852_0\n",
      "  xorg-libxdmcp-1.1.3-h7f98852_0\n",
      "\n",
      "The following packages will be UPDATED:\n",
      "\n",
      "  _openmp_mutex       conda-forge::_openmp_mutex-4.5-1_llvm --> pkgs/main::_openmp_mutex-4.5-1_gnu\n",
      "  backports.tempfile conda-forge::backports.tempfile-1.0-p~ --> anaconda::backports.tempfile-1.0-py_1\n",
      "  conda              conda-forge::conda-4.8.3-py37hc8dfbb8~ --> anaconda::conda-4.9.0-py37_0\n",
      "  conda-build        conda-forge::conda-build-3.18.11-py37~ --> anaconda::conda-build-3.20.4-py37_1\n",
      "  conda-package-han~ conda-forge::conda-package-handling-1~ --> anaconda::conda-package-handling-1.7.2-py37h03888b9_0\n",
      "  dbus                  conda-forge::dbus-1.13.6-hfdff14a_1 --> anaconda::dbus-1.13.18-hb2f20db_0\n",
      "  expat                 conda-forge::expat-2.2.9-he1b5a44_2 --> anaconda::expat-2.2.10-he6710b0_2\n",
      "  keras-preprocessi~ conda-forge::keras-preprocessing-1.1.~ --> anaconda::keras-preprocessing-1.1.0-py_1\n",
      "  krb5                  conda-forge::krb5-1.17.2-h926e7f8_0 --> anaconda::krb5-1.18.2-h173b8e3_0\n",
      "  libprotobuf        conda-forge::libprotobuf-3.11.4-h8b12~ --> anaconda::libprotobuf-3.13.0.1-hd408876_0\n",
      "  libxcb             conda-forge::libxcb-1.13-h14c3975_1002 --> anaconda::libxcb-1.14-h7b6447c_0\n",
      "  openssl            conda-forge::openssl-1.1.1i-h7f98852_0 --> pkgs/main::openssl-1.1.1m-h7f8727e_0\n",
      "  patchelf            conda-forge::patchelf-0.11-he1b5a44_0 --> anaconda::patchelf-0.12-he6710b0_0\n",
      "  protobuf           conda-forge::protobuf-3.11.4-py37h334~ --> anaconda::protobuf-3.13.0.1-py37he6710b0_1\n",
      "  pycurl             conda-forge::pycurl-7.43.0.5-py37h21f~ --> anaconda::pycurl-7.43.0.6-py37h1ba5d50_0\n",
      "  rtree              conda-forge::rtree-0.9.3-py37h7b0cdae~ --> anaconda::rtree-0.9.4-py37_1\n",
      "  ruamel_yaml        conda-forge::ruamel_yaml-0.15.80-py37~ --> anaconda::ruamel_yaml-0.15.87-py37h7b6447c_1\n",
      "  setuptools         conda-forge::setuptools-49.6.0-py37h8~ --> anaconda::setuptools-50.3.0-py37hb0f4dca_1\n",
      "\n",
      "The following packages will be SUPERSEDED by a higher-priority channel:\n",
      "\n",
      "  _libgcc_mutex      conda-forge::_libgcc_mutex-0.1-conda_~ --> anaconda::_libgcc_mutex-0.1-main\n",
      "  _tflow_select                                   pkgs/main --> anaconda\n",
      "  absl-py            conda-forge::absl-py-0.11.0-py37h89c1~ --> anaconda::absl-py-0.10.0-py37_0\n",
      "  astor              conda-forge/noarch::astor-0.8.1-pyh9f~ --> anaconda/linux-64::astor-0.8.1-py37_0\n",
      "  backports                                     conda-forge --> anaconda\n",
      "  backports.functoo~                            conda-forge --> anaconda\n",
      "  backports.weakref  conda-forge/linux-64::backports.weakr~ --> anaconda/noarch::backports.weakref-1.0.post1-py_1\n",
      "  beautifulsoup4                                conda-forge --> anaconda\n",
      "  brotlipy           conda-forge::brotlipy-0.7.0-py37hb5d7~ --> anaconda::brotlipy-0.7.0-py37h7b6447c_1000\n",
      "  bzip2                 conda-forge::bzip2-1.0.8-h7f98852_4 --> anaconda::bzip2-1.0.8-h7b6447c_0\n",
      "  c-ares              conda-forge::c-ares-1.17.1-h36c2ea0_0 --> anaconda::c-ares-1.16.1-h7b6447c_0\n",
      "  ca-certificates    conda-forge::ca-certificates-2020.12.~ --> anaconda::ca-certificates-2020.10.14-0\n",
      "  certifi            conda-forge::certifi-2020.12.5-py37h8~ --> anaconda::certifi-2020.6.20-py37_0\n",
      "  cffi               conda-forge::cffi-1.14.4-py37hc58025e~ --> anaconda::cffi-1.14.3-py37he30daa8_0\n",
      "  chardet            conda-forge::chardet-4.0.0-py37h89c18~ --> anaconda::chardet-3.0.4-py37_1003\n",
      "  click               conda-forge::click-7.1.2-pyh9f0ad1d_0 --> anaconda::click-7.1.2-py_0\n",
      "  clyent              conda-forge/noarch::clyent-1.2.2-py_1 --> anaconda/linux-64::clyent-1.2.2-py37_1\n",
      "  conda-verify                                    pkgs/main --> anaconda\n",
      "  cryptography       conda-forge::cryptography-3.3.1-py37h~ --> anaconda::cryptography-3.1.1-py37h1ba5d50_0\n",
      "  cudatoolkit        conda-forge::cudatoolkit-10.0.130-hf8~ --> anaconda::cudatoolkit-10.0.130-0\n",
      "  cudnn              conda-forge::cudnn-7.6.5.32-ha8d7eb6_1 --> anaconda::cudnn-7.6.5-cuda10.0_0\n",
      "  filelock           conda-forge::filelock-3.0.12-pyh9f0ad~ --> anaconda::filelock-3.0.12-py_0\n",
      "  fontconfig         conda-forge::fontconfig-2.13.1-h736d3~ --> anaconda::fontconfig-2.13.0-h9420a91_0\n",
      "  freetype           conda-forge::freetype-2.10.4-h7ca028e~ --> anaconda::freetype-2.10.4-h5ab3b9f_0\n",
      "  future             conda-forge::future-0.18.2-py37h89c18~ --> anaconda::future-0.18.2-py37_1\n",
      "  gast                  conda-forge/noarch::gast-0.2.2-py_0 --> anaconda/linux-64::gast-0.2.2-py37_0\n",
      "  glib                  conda-forge::glib-2.66.4-hcd2ae1e_1 --> anaconda::glib-2.56.2-hd408876_0\n",
      "  glob2                                         conda-forge --> anaconda\n",
      "  google-pasta       conda-forge::google-pasta-0.2.0-pyh8c~ --> anaconda::google-pasta-0.2.0-py_0\n",
      "  grpcio             conda-forge::grpcio-1.34.0-py37hb27c1~ --> anaconda::grpcio-1.31.0-py37hf8bcb03_0\n",
      "  gst-plugins-base   conda-forge::gst-plugins-base-1.14.5-~ --> anaconda::gst-plugins-base-1.14.0-hbbd80ab_1\n",
      "  gstreamer          conda-forge::gstreamer-1.18.2-h3560a4~ --> anaconda::gstreamer-1.14.0-hb453b48_1\n",
      "  h5py               conda-forge::h5py-3.1.0-nompi_py37h1e~ --> anaconda::h5py-2.10.0-py37hd6299e0_1\n",
      "  icu                      conda-forge::icu-68.1-h58526e2_0 --> anaconda::icu-58.2-he6710b0_3\n",
      "  idna                  conda-forge::idna-2.10-pyh9f0ad1d_0 --> anaconda::idna-2.10-py_0\n",
      "  importlib-metadata conda-forge/linux-64::importlib-metad~ --> anaconda/noarch::importlib-metadata-2.0.0-py_1\n",
      "  jinja2             conda-forge::jinja2-2.11.2-pyh9f0ad1d~ --> anaconda::jinja2-2.11.2-py_0\n",
      "  jpeg                      conda-forge::jpeg-9d-h36c2ea0_0 --> anaconda::jpeg-9b-habf39ab_1\n",
      "  keras-applications                            conda-forge --> anaconda\n",
      "  ld_impl_linux-64   conda-forge::ld_impl_linux-64-2.35.1-~ --> anaconda::ld_impl_linux-64-2.33.1-h53a641e_7\n",
      "  libarchive         conda-forge::libarchive-3.5.1-h3f442f~ --> anaconda::libarchive-3.4.2-h62408e4_0\n",
      "  libcurl            conda-forge::libcurl-7.71.1-hcdd3856_8 --> anaconda::libcurl-7.71.1-h20c2e04_1\n",
      "  libedit            conda-forge::libedit-3.1.20191231-he2~ --> anaconda::libedit-3.1.20191231-h14c3975_1\n",
      "  libffi                 conda-forge::libffi-3.3-h58526e2_2 --> anaconda::libffi-3.3-he6710b0_2\n",
      "  libgcc-ng          conda-forge::libgcc-ng-9.3.0-h5dbcf3e~ --> pkgs/main::libgcc-ng-9.3.0-h5101ec6_17\n",
      "  libgfortran-ng     conda-forge::libgfortran-ng-9.3.0-he4~ --> pkgs/main::libgfortran-ng-9.3.0-ha5ec8a7_17\n",
      "  libgfortran5       conda-forge::libgfortran5-9.3.0-he4bc~ --> pkgs/main::libgfortran5-9.3.0-ha5ec8a7_17\n",
      "  liblief            conda-forge::liblief-0.10.1-he1b5a44_2 --> anaconda::liblief-0.10.1-he6710b0_0\n",
      "  libpng              conda-forge::libpng-1.6.37-h21135ba_2 --> anaconda::libpng-1.6.37-hbc83047_0\n",
      "  libspatialindex    conda-forge::libspatialindex-1.9.3-he~ --> anaconda::libspatialindex-1.9.3-he6710b0_0\n",
      "  libssh2             conda-forge::libssh2-1.9.0-hab1572f_5 --> anaconda::libssh2-1.9.0-h1ba5d50_1\n",
      "  libstdcxx-ng       conda-forge::libstdcxx-ng-9.3.0-h2ae2~ --> pkgs/main::libstdcxx-ng-9.3.0-hd4cf53a_17\n",
      "  libuuid            conda-forge::libuuid-2.32.1-h7f98852_~ --> anaconda::libuuid-1.0.3-h1bed415_2\n",
      "  libxml2            conda-forge::libxml2-2.9.10-h72842e0_3 --> anaconda::libxml2-2.9.10-hb55368b_3\n",
      "  lz4-c                 conda-forge::lz4-c-1.9.3-h9c3ff4c_0 --> anaconda::lz4-c-1.9.2-heb0550a_3\n",
      "  markdown           conda-forge/noarch::markdown-3.3.3-py~ --> anaconda/linux-64::markdown-3.3.2-py37_0\n",
      "  markupsafe         conda-forge::markupsafe-1.1.1-py37h5e~ --> anaconda::markupsafe-1.1.1-py37h14c3975_1\n",
      "  mkl                  conda-forge::mkl-2020.4-h726a3e6_304 --> anaconda::mkl-2019.4-243\n",
      "  mkl-service        conda-forge::mkl-service-2.3.0-py37h8~ --> anaconda::mkl-service-2.3.0-py37he904b0f_0\n",
      "  navigator-updater                               pkgs/main --> anaconda\n",
      "  ncurses               conda-forge::ncurses-6.2-h58526e2_4 --> anaconda::ncurses-6.2-he6710b0_1\n",
      "  opt_einsum             conda-forge::opt_einsum-3.3.0-py_0 --> anaconda::opt_einsum-3.1.0-py_0\n",
      "  pcre                    conda-forge::pcre-8.44-he1b5a44_0 --> anaconda::pcre-8.44-he6710b0_0\n",
      "  pip                conda-forge/noarch::pip-20.3.3-pyhd8e~ --> anaconda/linux-64::pip-20.2.4-py37_0\n",
      "  pkginfo            conda-forge/noarch::pkginfo-1.6.1-pyh~ --> anaconda/linux-64::pkginfo-1.6.0-py37_0\n",
      "  psutil             conda-forge::psutil-5.8.0-py37h5e8e33~ --> anaconda::psutil-5.7.2-py37h7b6447c_0\n",
      "  py-lief            conda-forge::py-lief-0.10.1-py37hb892~ --> anaconda::py-lief-0.10.1-py37h403a769_0\n",
      "  pycosat            conda-forge::pycosat-0.6.3-py37h5e8e3~ --> anaconda::pycosat-0.6.3-py37h7b6447c_0\n",
      "  pycparser          conda-forge::pycparser-2.20-pyh9f0ad1~ --> anaconda::pycparser-2.20-py_2\n",
      "  pyopenssl          conda-forge::pyopenssl-20.0.1-pyhd8ed~ --> anaconda::pyopenssl-19.1.0-py_1\n",
      "  pyqt               conda-forge::pyqt-5.12.3-py37h89c1867~ --> anaconda::pyqt-5.9.2-py37h22d08a2_1\n",
      "  pysocks            conda-forge::pysocks-1.7.1-py37he5f6b~ --> anaconda::pysocks-1.7.1-py37_1\n",
      "  python             conda-forge::python-3.7.9-hffdb5ce_0_~ --> anaconda::python-3.7.9-h7579374_0\n",
      "  python-libarchive~ conda-forge/linux-64::python-libarchi~ --> anaconda/noarch::python-libarchive-c-2.9-py_0\n",
      "  pytz                conda-forge::pytz-2020.5-pyhd8ed1ab_0 --> anaconda::pytz-2020.1-py_0\n",
      "  pyyaml             conda-forge::pyyaml-5.3.1-py37h5e8e33~ --> anaconda::pyyaml-5.3.1-py37h7b6447c_1\n",
      "  qt                      conda-forge::qt-5.12.9-h9d6b050_2 --> anaconda::qt-5.9.7-h5867ecd_1\n",
      "  qtpy                                          conda-forge --> anaconda\n",
      "  readline             conda-forge::readline-8.0-he28a2e2_2 --> anaconda::readline-8.0-h7b6447c_0\n",
      "  requests           conda-forge::requests-2.25.1-pyhd3deb~ --> anaconda::requests-2.24.0-py_0\n",
      "  ripgrep            conda-forge::ripgrep-12.1.1-h516909a_1 --> anaconda::ripgrep-12.1.1-0\n",
      "  six                  conda-forge::six-1.15.0-pyh9f0ad1d_0 --> anaconda::six-1.15.0-py_0\n",
      "  soupsieve               conda-forge::soupsieve-2.0.1-py_1 --> anaconda::soupsieve-2.0.1-py_0\n",
      "  sqlite              conda-forge::sqlite-3.34.0-h74cdb3f_0 --> anaconda::sqlite-3.33.0-h62c20be_0\n",
      "  termcolor          conda-forge/noarch::termcolor-1.1.0-p~ --> anaconda/linux-64::termcolor-1.1.0-py37_1\n",
      "  tk                      conda-forge::tk-8.6.10-h21135ba_1 --> anaconda::tk-8.6.10-hbc83047_0\n",
      "  tqdm                conda-forge::tqdm-4.55.1-pyhd8ed1ab_0 --> anaconda::tqdm-4.50.2-py_0\n",
      "  urllib3            conda-forge::urllib3-1.26.2-pyhd8ed1a~ --> anaconda::urllib3-1.25.11-py_0\n",
      "  werkzeug           conda-forge/noarch::werkzeug-0.16.1-p~ --> anaconda/linux-64::werkzeug-0.14.1-py37_0\n",
      "  wheel              conda-forge::wheel-0.36.2-pyhd3deb0d_0 --> anaconda::wheel-0.35.1-py_0\n",
      "  wrapt              conda-forge::wrapt-1.12.1-py37h5e8e33~ --> anaconda::wrapt-1.12.1-py37h7b6447c_1\n",
      "  xz                       conda-forge::xz-5.2.5-h516909a_1 --> anaconda::xz-5.2.5-h7b6447c_0\n",
      "  yaml                   conda-forge::yaml-0.2.5-h516909a_0 --> anaconda::yaml-0.2.5-h7b6447c_0\n",
      "  zipp                         conda-forge::zipp-3.4.0-py_0 --> anaconda::zipp-3.3.1-py_0\n",
      "  zlib               conda-forge::zlib-1.2.11-h516909a_1010 --> anaconda::zlib-1.2.11-h7b6447c_3\n",
      "  zstd                   conda-forge::zstd-1.4.8-ha95c52a_1 --> anaconda::zstd-1.4.4-h0b5b093_3\n",
      "\n",
      "\n",
      "\n",
      "Downloading and Extracting Packages\n"
     ]
    },
    {
     "name": "stdout",
     "output_type": "stream",
     "text": [
      "requests-2.24.0      | 54 KB     | ##################################### | 100% \n",
      "expat-2.2.10         | 192 KB    | ##################################### | 100% \n",
      "libgfortran5-9.3.0   | 1.5 MB    | ##################################### | 100% \n",
      "libpng-1.6.37        | 364 KB    | ##################################### | 100% \n",
      "h5py-2.10.0          | 1.1 MB    | ##################################### | 100% \n",
      "google-pasta-0.2.0   | 44 KB     | ##################################### | 100% \n",
      "python-libarchive-c- | 50 KB     | ##################################### | 100% \n",
      "pcre-8.44            | 269 KB    | ##################################### | 100% \n",
      "libxgboost-0.90      | 3.8 MB    | ##################################### | 100% \n",
      "idna-2.10            | 56 KB     | ##################################### | 100% \n",
      "libssh2-1.9.0        | 346 KB    | ##################################### | 100% \n",
      "markupsafe-1.1.1     | 26 KB     | ##################################### | 100% \n",
      "intel-openmp-2020.2  | 947 KB    | ##################################### | 100% \n",
      "sip-4.19.24          | 297 KB    | ##################################### | 100% \n",
      "libgcc-ng-9.3.0      | 4.8 MB    | ##################################### | 100% \n",
      "gst-plugins-base-1.1 | 6.3 MB    | ##################################### | 100% \n",
      "openssl-1.1.1m       | 2.5 MB    | ##################################### | 100% \n",
      "termcolor-1.1.0      | 7 KB      | ##################################### | 100% \n",
      "libstdcxx-ng-9.3.0   | 3.1 MB    | ##################################### | 100% \n",
      "libprotobuf-3.13.0.1 | 2.3 MB    | ##################################### | 100% \n",
      "astor-0.8.1          | 45 KB     | ##################################### | 100% \n",
      "six-1.15.0           | 13 KB     | ##################################### | 100% \n",
      "py-xgboost-0.90      | 77 KB     | ##################################### | 100% \n",
      "ripgrep-12.1.1       | 1.5 MB    | ##################################### | 100% \n",
      "werkzeug-0.14.1      | 423 KB    | ##################################### | 100% \n",
      "qtpy-1.9.0           | 39 KB     | ##################################### | 100% \n",
      "threadpoolctl-2.1.0  | 16 KB     | ##################################### | 100% \n",
      "backports.functools_ | 11 KB     | ##################################### | 100% \n",
      "certifi-2020.6.20    | 159 KB    | ##################################### | 100% \n",
      "glib-2.56.2          | 5.0 MB    | ##################################### | 100% \n",
      "yaml-0.2.5           | 87 KB     | ##################################### | 100% \n",
      "py-lief-0.10.1       | 1.2 MB    | ##################################### | 100% \n",
      "scikit-learn-0.23.2  | 6.9 MB    | ##################################### | 100% \n",
      "brotlipy-0.7.0       | 348 KB    | ##################################### | 100% \n",
      "libgomp-9.3.0        | 311 KB    | ##################################### | 100% \n",
      "filelock-3.0.12      | 12 KB     | ##################################### | 100% \n",
      "pycurl-7.43.0.6      | 69 KB     | ##################################### | 100% \n",
      "soupsieve-2.0.1      | 33 KB     | ##################################### | 100% \n",
      "cffi-1.14.3          | 224 KB    | ##################################### | 100% \n",
      "freetype-2.10.4      | 901 KB    | ##################################### | 100% \n",
      "absl-py-0.10.0       | 169 KB    | ##################################### | 100% \n",
      "cryptography-3.1.1   | 625 KB    | ##################################### | 100% \n",
      "zstd-1.4.4           | 1006 KB   | ##################################### | 100% \n",
      "pysocks-1.7.1        | 27 KB     | ##################################### | 100% \n",
      "krb5-1.18.2          | 1.5 MB    | ##################################### | 100% \n",
      "c-ares-1.16.1        | 112 KB    | ##################################### | 100% \n",
      "pip-20.2.4           | 2.0 MB    | ##################################### | 100% \n",
      "conda-verify-3.4.2   | 25 KB     | ##################################### | 100% \n",
      "ncurses-6.2          | 1.1 MB    | ##################################### | 100% \n",
      "urllib3-1.25.11      | 93 KB     | ##################################### | 100% \n",
      "mkl-service-2.3.0    | 208 KB    | ##################################### | 100% \n",
      "python-3.7.9         | 52.8 MB   | ##################################### | 100% \n",
      "bzip2-1.0.8          | 105 KB    | ##################################### | 100% \n",
      "backports.weakref-1. | 7 KB      | ##################################### | 100% \n",
      "dbus-1.13.18         | 586 KB    | ##################################### | 100% \n",
      "qt-5.9.7             | 85.9 MB   | ##################################### | 100% \n",
      "libedit-3.1.20191231 | 121 KB    | ##################################### | 100% \n",
      "libcurl-7.71.1       | 313 KB    | ##################################### | 100% \n",
      "conda-package-handli | 977 KB    | ##################################### | 100% \n",
      "jpeg-9b              | 247 KB    | ##################################### | 100% \n",
      "pkginfo-1.6.0        | 41 KB     | ##################################### | 100% \n",
      "pycparser-2.20       | 94 KB     | ##################################### | 100% \n",
      "ruamel_yaml-0.15.87  | 253 KB    | ##################################### | 100% \n",
      "sqlite-3.33.0        | 2.0 MB    | ##################################### | 100% \n",
      "protobuf-3.13.0.1    | 700 KB    | ##################################### | 100% \n",
      "zipp-3.3.1           | 11 KB     | ##################################### | 100% \n",
      "pycosat-0.6.3        | 107 KB    | ##################################### | 100% \n",
      "libffi-3.3           | 54 KB     | ##################################### | 100% \n",
      "keras-applications-1 | 30 KB     | ##################################### | 100% \n",
      "opt_einsum-3.1.0     | 54 KB     | ##################################### | 100% \n",
      "libxcb-1.14          | 610 KB    | ##################################### | 100% \n",
      "backports.tempfile-1 | 12 KB     | ##################################### | 100% \n",
      "libuuid-1.0.3        | 16 KB     | ##################################### | 100% \n",
      "cudnn-7.6.5          | 226.4 MB  | ##################################### | 100% \n",
      "_py-xgboost-mutex-2. | 9 KB      | ##################################### | 100% \n",
      "jinja2-2.11.2        | 97 KB     | ##################################### | 100% \n",
      "conda-4.9.0          | 3.1 MB    | ##################################### | 100% \n",
      "xz-5.2.5             | 438 KB    | ##################################### | 100% \n",
      "readline-8.0         | 428 KB    | ##################################### | 100% \n",
      "patchelf-0.12        | 86 KB     | ##################################### | 100% \n",
      "pyqt-5.9.2           | 5.6 MB    | ##################################### | 100% \n",
      "_openmp_mutex-4.5    | 22 KB     | ##################################### | 100% \n",
      "beautifulsoup4-4.9.3 | 87 KB     | ##################################### | 100% \n",
      "libspatialindex-1.9. | 3.1 MB    | ##################################### | 100% \n",
      "clyent-1.2.2         | 18 KB     | ##################################### | 100% \n",
      "libgfortran-ng-9.3.0 | 22 KB     | ##################################### | 100% \n",
      "navigator-updater-0. | 1.2 MB    | ##################################### | 100% \n",
      "mkl-2019.4           | 204.1 MB  | ##################################### | 100% \n",
      "glob2-0.7            | 14 KB     | ##################################### | 100% \n",
      "setuptools-50.3.0    | 904 KB    | ##################################### | 100% \n",
      "pytz-2020.1          | 239 KB    | ##################################### | 100% \n",
      "ca-certificates-2020 | 128 KB    | ##################################### | 100% \n",
      "backports-1.0        | 139 KB    | ##################################### | 100% \n",
      "psutil-5.7.2         | 342 KB    | ##################################### | 100% \n",
      "tqdm-4.50.2          | 55 KB     | ##################################### | 100% \n",
      "cudatoolkit-10.0.130 | 380.0 MB  | ##################################### | 100% \n",
      "joblib-0.17.0        | 205 KB    | ##################################### | 100% \n",
      "keras-preprocessing- | 36 KB     | ##################################### | 100% \n",
      "pyyaml-5.3.1         | 191 KB    | ##################################### | 100% \n",
      "ld_impl_linux-64-2.3 | 645 KB    | ##################################### | 100% \n",
      "tk-8.6.10            | 3.2 MB    | ##################################### | 100% \n"
     ]
    },
    {
     "name": "stdout",
     "output_type": "stream",
     "text": [
      "click-7.1.2          | 67 KB     | ##################################### | 100% \n",
      "icu-58.2             | 22.7 MB   | ##################################### | 100% \n",
      "_libgcc_mutex-0.1    | 3 KB      | ##################################### | 100% \n",
      "liblief-0.10.1       | 2.0 MB    | ##################################### | 100% \n",
      "chardet-3.0.4        | 173 KB    | ##################################### | 100% \n",
      "wheel-0.35.1         | 36 KB     | ##################################### | 100% \n",
      "gast-0.2.2           | 137 KB    | ##################################### | 100% \n",
      "lz4-c-1.9.2          | 203 KB    | ##################################### | 100% \n",
      "zlib-1.2.11          | 120 KB    | ##################################### | 100% \n",
      "markdown-3.3.2       | 123 KB    | ##################################### | 100% \n",
      "future-0.18.2        | 720 KB    | ##################################### | 100% \n",
      "libarchive-3.4.2     | 1.6 MB    | ##################################### | 100% \n",
      "pyopenssl-19.1.0     | 47 KB     | ##################################### | 100% \n",
      "grpcio-1.31.0        | 2.2 MB    | ##################################### | 100% \n",
      "_tflow_select-2.1.0  | 2 KB      | ##################################### | 100% \n",
      "libxml2-2.9.10       | 1.3 MB    | ##################################### | 100% \n",
      "fontconfig-2.13.0    | 291 KB    | ##################################### | 100% \n",
      "gstreamer-1.14.0     | 3.8 MB    | ##################################### | 100% \n",
      "wrapt-1.12.1         | 50 KB     | ##################################### | 100% \n",
      "conda-build-3.20.4   | 576 KB    | ##################################### | 100% \n",
      "importlib-metadata-2 | 35 KB     | ##################################### | 100% \n",
      "rtree-0.9.4          | 48 KB     | ##################################### | 100% \n",
      "Preparing transaction: done\n",
      "Verifying transaction: done\n",
      "Executing transaction: done\n"
     ]
    }
   ],
   "source": [
    "# ! conda install -c anaconda py-xgboost --all -y"
   ]
  },
  {
   "cell_type": "code",
   "execution_count": null,
   "metadata": {
    "gradient": {
     "editing": false,
     "id": "efb751f8-c65e-4f00-90d7-3ffb7c148bcb",
     "kernelId": "7fd6bba4-1c21-4a38-bc94-1084ee9d4c17"
    }
   },
   "outputs": [
    {
     "name": "stdout",
     "output_type": "stream",
     "text": [
      "Collecting package metadata (current_repodata.json): done\n",
      "Solving environment: / \n",
      "Warning: 4 possible package resolutions (only showing differing packages):\n",
      "  - anaconda/linux-64::_tflow_select-2.1.0-gpu, anaconda/linux-64::gast-0.2.2-py37_0\n",
      "  - anaconda/linux-64::_tflow_select-2.1.0-gpu, defaults/linux-64::gast-0.2.2-py37_0\n",
      "  - anaconda/linux-64::gast-0.2.2-py37_0, defaults/linux-64::_tflow_select-2.1.0-gpu\n",
      "  - defaults/linux-64::_tflow_select-2.1.0-gpu, defaults/linux-64::gast-0.2.2-py37done\n",
      "\n",
      "## Package Plan ##\n",
      "\n",
      "  environment location: /opt/conda/envs/springboard\n",
      "\n",
      "  added / updated specs:\n",
      "    - catboost\n",
      "\n",
      "\n",
      "The following packages will be downloaded:\n",
      "\n",
      "    package                    |            build\n",
      "    ---------------------------|-----------------\n",
      "    _libgcc_mutex-0.1          |      conda_forge           3 KB  conda-forge\n",
      "    _openmp_mutex-4.5          |           1_llvm           5 KB  conda-forge\n",
      "    _py-xgboost-mutex-2.0      |            cpu_0           8 KB  conda-forge\n",
      "    absl-py-0.12.0             |     pyhd8ed1ab_0          96 KB  conda-forge\n",
      "    alsa-lib-1.2.3             |       h516909a_0         560 KB  conda-forge\n",
      "    astor-0.8.1                |     pyh9f0ad1d_0          25 KB  conda-forge\n",
      "    atk-1.0-2.36.0             |       h3371d22_4         560 KB  conda-forge\n",
      "    beautifulsoup4-4.10.0      |     pyha770c72_0          77 KB  conda-forge\n",
      "    brotli-1.0.9               |       h7f98852_6          18 KB  conda-forge\n",
      "    brotli-bin-1.0.9           |       h7f98852_6          19 KB  conda-forge\n",
      "    brotlipy-0.7.0             |py37h5e8e339_1003         342 KB  conda-forge\n",
      "    bzip2-1.0.8                |       h7f98852_4         484 KB  conda-forge\n",
      "    c-ares-1.18.1              |       h7f98852_0         113 KB  conda-forge\n",
      "    ca-certificates-2021.10.8  |       ha878542_0         139 KB  conda-forge\n",
      "    cached-property-1.5.2      |       hd8ed1ab_1           4 KB  conda-forge\n",
      "    cached_property-1.5.2      |     pyha770c72_1          11 KB  conda-forge\n",
      "    cairo-1.16.0               |    ha00ac49_1009         1.5 MB  conda-forge\n",
      "    catboost-1.0.4             |   py37h89c1867_3        59.9 MB  conda-forge\n",
      "    certifi-2021.10.8          |   py37h89c1867_1         145 KB  conda-forge\n",
      "    cffi-1.15.0                |   py37h036bc23_0         225 KB  conda-forge\n",
      "    chardet-4.0.0              |   py37h89c1867_2         199 KB  conda-forge\n",
      "    charset-normalizer-2.0.12  |     pyhd8ed1ab_0          35 KB  conda-forge\n",
      "    click-8.0.4                |   py37h89c1867_0         145 KB  conda-forge\n",
      "    clyent-1.2.2               |             py_1           9 KB  conda-forge\n",
      "    colorama-0.4.4             |     pyh9f0ad1d_0          18 KB  conda-forge\n",
      "    conda-4.11.0               |   py37h89c1867_0        16.9 MB  conda-forge\n",
      "    conda-build-3.21.8         |   py37h89c1867_0         571 KB  conda-forge\n",
      "    conda-package-handling-1.7.3|   py37h5e8e339_1        1008 KB  conda-forge\n",
      "    conda-verify-3.1.1         |py37h89c1867_1004          33 KB  conda-forge\n",
      "    cryptography-36.0.1        |   py37hf1a17b8_0         1.7 MB  conda-forge\n",
      "    cudatoolkit-10.0.130       |      hf841e97_10       336.5 MB  conda-forge\n",
      "    cudnn-7.6.5.32             |       ha8d7eb6_1       226.2 MB  conda-forge\n",
      "    cycler-0.11.0              |     pyhd8ed1ab_0          10 KB  conda-forge\n",
      "    dbus-1.13.6                |       h5008d03_3         604 KB  conda-forge\n",
      "    expat-2.4.6                |       h27087fc_0         186 KB  conda-forge\n",
      "    filelock-3.6.0             |     pyhd8ed1ab_0          12 KB  conda-forge\n",
      "    font-ttf-dejavu-sans-mono-2.37|       hab24e00_0         388 KB  conda-forge\n",
      "    font-ttf-inconsolata-3.000 |       h77eed37_0          94 KB  conda-forge\n",
      "    font-ttf-source-code-pro-2.038|       h77eed37_0         684 KB  conda-forge\n",
      "    font-ttf-ubuntu-0.83       |       hab24e00_0         1.9 MB  conda-forge\n",
      "    fontconfig-2.13.96         |       ha180cfb_0         372 KB  conda-forge\n",
      "    fonts-conda-ecosystem-1    |                0           4 KB  conda-forge\n",
      "    fonts-conda-forge-1        |                0           4 KB  conda-forge\n",
      "    fonttools-4.29.1           |   py37h5e8e339_0         1.6 MB  conda-forge\n",
      "    freetype-2.10.4            |       h0708190_1         890 KB  conda-forge\n",
      "    fribidi-1.0.10             |       h36c2ea0_0         112 KB  conda-forge\n",
      "    future-0.18.2              |   py37h89c1867_4         713 KB  conda-forge\n",
      "    gdk-pixbuf-2.42.6          |       h04a7f16_0         609 KB  conda-forge\n",
      "    gettext-0.19.8.1           |    h73d1719_1008         3.6 MB  conda-forge\n",
      "    giflib-5.2.1               |       h36c2ea0_2          77 KB  conda-forge\n",
      "    glob2-0.7                  |             py_0          11 KB  conda-forge\n",
      "    google-pasta-0.2.0         |     pyh8c360ce_0          42 KB  conda-forge\n",
      "    graphite2-1.3.13           |    h58526e2_1001         102 KB  conda-forge\n",
      "    graphviz-2.50.0            |       h8e749b2_2         3.0 MB  conda-forge\n",
      "    grpcio-1.44.0              |   py37hb27c1af_0         2.5 MB  conda-forge\n",
      "    gst-plugins-base-1.18.5    |       hf529b03_3         2.6 MB  conda-forge\n",
      "    gstreamer-1.18.5           |       h9f60fe5_3         2.0 MB  conda-forge\n",
      "    gtk2-2.24.33               |       h90689f9_2         7.4 MB  conda-forge\n",
      "    gts-0.7.6                  |       h64030ff_2         411 KB  conda-forge\n",
      "    h5py-3.6.0                 |nompi_py37hd308b1e_100         1.3 MB  conda-forge\n",
      "    harfbuzz-3.4.0             |       hb4a5f5f_0         2.2 MB  conda-forge\n",
      "    hdf5-1.12.1                |nompi_h2750804_103         3.6 MB  conda-forge\n",
      "    icu-69.1                   |       h9c3ff4c_0        13.2 MB  conda-forge\n",
      "    idna-3.3                   |     pyhd8ed1ab_0          55 KB  conda-forge\n",
      "    importlib-metadata-4.11.1  |   py37h89c1867_0          32 KB  conda-forge\n",
      "    jbig-2.1                   |    h7f98852_2003          43 KB  conda-forge\n",
      "    jinja2-3.0.3               |     pyhd8ed1ab_0          99 KB  conda-forge\n",
      "    joblib-1.1.0               |     pyhd8ed1ab_0         210 KB  conda-forge\n",
      "    jpeg-9e                    |       h7f98852_0         269 KB  conda-forge\n",
      "    keras-applications-1.0.8   |             py_1          30 KB  conda-forge\n",
      "    keras-preprocessing-1.1.2  |     pyhd8ed1ab_0          34 KB  conda-forge\n",
      "    kiwisolver-1.3.2           |   py37h2527ec5_1          78 KB  conda-forge\n",
      "    krb5-1.19.2                |       hcc1bbae_3         1.4 MB  conda-forge\n",
      "    lcms2-2.12                 |       hddcbb42_0         443 KB  conda-forge\n",
      "    ld_impl_linux-64-2.36.1    |       hea4e1c9_2         667 KB  conda-forge\n",
      "    lerc-3.0                   |       h9c3ff4c_0         216 KB  conda-forge\n",
      "    libarchive-3.5.2           |       hccf745f_1         1.6 MB  conda-forge\n",
      "    libblas-3.9.0              |13_linux64_openblas          12 KB  conda-forge\n",
      "    libbrotlicommon-1.0.9      |       h7f98852_6          65 KB  conda-forge\n",
      "    libbrotlidec-1.0.9         |       h7f98852_6          33 KB  conda-forge\n",
      "    libbrotlienc-1.0.9         |       h7f98852_6         286 KB  conda-forge\n",
      "    libcblas-3.9.0             |13_linux64_openblas          12 KB  conda-forge\n",
      "    libclang-13.0.1            |default_hc23dcda_0        11.1 MB  conda-forge\n",
      "    libcurl-7.81.0             |       h2574ce0_0         338 KB  conda-forge\n",
      "    libdeflate-1.10            |       h7f98852_0          77 KB  conda-forge\n",
      "    libedit-3.1.20191231       |       he28a2e2_2         121 KB  conda-forge\n",
      "    libev-4.33                 |       h516909a_1         104 KB  conda-forge\n",
      "    libevent-2.1.10            |       h9b69904_4         1.1 MB  conda-forge\n",
      "    libffi-3.4.2               |       h7f98852_5          57 KB  conda-forge\n",
      "    libgcc-ng-11.2.0           |      h1d223b6_12         904 KB  conda-forge\n",
      "    libgd-2.3.3                |       h3cfcdeb_1         267 KB  conda-forge\n",
      "    libgfortran-ng-11.2.0      |      h69a702a_12          19 KB  conda-forge\n",
      "    libgfortran5-11.2.0        |      h5c6108e_12         1.7 MB  conda-forge\n",
      "    libglib-2.70.2             |       h174f98d_4         3.1 MB  conda-forge\n",
      "    libiconv-1.16              |       h516909a_0         1.4 MB  conda-forge\n",
      "    liblapack-3.9.0            |13_linux64_openblas          12 KB  conda-forge\n",
      "    liblief-0.11.5             |       h9c3ff4c_1         2.2 MB  conda-forge\n",
      "    libllvm13-13.0.1           |       hf817b99_2        33.6 MB  conda-forge\n",
      "    libnghttp2-1.47.0          |       h727a467_0         808 KB  conda-forge\n",
      "    libnsl-2.0.0               |       h7f98852_0          31 KB  conda-forge\n",
      "    libogg-1.3.4               |       h7f98852_1         206 KB  conda-forge\n",
      "    libopenblas-0.3.18         |pthreads_h8fe5266_0         9.6 MB  conda-forge\n",
      "    libopus-1.3.1              |       h7f98852_1         255 KB  conda-forge\n",
      "    libpng-1.6.37              |       h21135ba_2         306 KB  conda-forge\n",
      "    libpq-14.2                 |       hd57d9b9_0         3.0 MB  conda-forge\n",
      "    libprotobuf-3.19.4         |       h780b84a_0         2.6 MB  conda-forge\n",
      "    librsvg-2.52.5             |       h0a9e6e8_2         5.3 MB  conda-forge\n",
      "    libspatialindex-1.9.3      |       h9c3ff4c_4         4.6 MB  conda-forge\n",
      "    libssh2-1.10.0             |       ha56f1ee_2         233 KB  conda-forge\n",
      "    libstdcxx-ng-11.2.0        |      he4da1e4_12         4.2 MB  conda-forge\n",
      "    libtiff-4.3.0              |       h542a066_3         638 KB  conda-forge\n",
      "    libtool-2.4.6              |    h9c3ff4c_1008         511 KB  conda-forge\n",
      "    libuuid-2.32.1             |    h7f98852_1000          28 KB  conda-forge\n",
      "    libvorbis-1.3.7            |       h9c3ff4c_0         280 KB  conda-forge\n",
      "    libwebp-1.2.2              |       h3452ae3_0          85 KB  conda-forge\n",
      "    libwebp-base-1.2.2         |       h7f98852_1         824 KB  conda-forge\n",
      "    libxcb-1.13                |    h7f98852_1004         391 KB  conda-forge\n",
      "    libxgboost-1.5.1           |   cpu_h3d145d1_2         3.6 MB  conda-forge\n",
      "    libxkbcommon-1.0.3         |       he3ba5ed_0         581 KB  conda-forge\n",
      "    libxml2-2.9.12             |       h885dcf4_1         760 KB  conda-forge\n",
      "    libzlib-1.2.11             |    h36c2ea0_1013          59 KB  conda-forge\n",
      "    llvm-openmp-13.0.1         |       hf817b99_0         3.4 MB  conda-forge\n",
      "    lz4-c-1.9.3                |       h9c3ff4c_1         179 KB  conda-forge\n",
      "    lzo-2.10                   |    h516909a_1000         314 KB  conda-forge\n",
      "    markdown-3.3.6             |     pyhd8ed1ab_0          67 KB  conda-forge\n",
      "    markupsafe-2.1.0           |   py37h540881e_0          22 KB  conda-forge\n",
      "    matplotlib-base-3.5.1      |   py37h1058ff1_0         7.4 MB  conda-forge\n",
      "    mkl-2022.0.1               |     h8d4b97c_803       199.3 MB  conda-forge\n",
      "    mkl-service-2.4.0          |   py37hc4a68ce_0          61 KB  conda-forge\n",
      "    munkres-1.1.4              |     pyh9f0ad1d_0          12 KB  conda-forge\n",
      "    mysql-common-8.0.28        |       ha770c72_0         1.8 MB  conda-forge\n",
      "    mysql-libs-8.0.28          |       hfa10184_0         1.9 MB  conda-forge\n",
      "    navigator-updater-0.2.1    |           py37_1         687 KB\n",
      "    ncurses-6.3                |       h9c3ff4c_0        1012 KB  conda-forge\n",
      "    nspr-4.32                  |       h9c3ff4c_1         233 KB  conda-forge\n",
      "    nss-3.74                   |       hb5efdd6_0         2.1 MB  conda-forge\n",
      "    numpy-1.21.5               |   py37hf2998dd_0         6.1 MB  conda-forge\n",
      "    openjpeg-2.4.0             |       hb52868f_1         444 KB  conda-forge\n",
      "    openssl-1.1.1l             |       h7f98852_0         2.1 MB  conda-forge\n",
      "    opt_einsum-3.3.0           |     pyhd8ed1ab_1          53 KB  conda-forge\n",
      "    packaging-21.3             |     pyhd8ed1ab_0          36 KB  conda-forge\n",
      "    pandas-1.3.4               |   py37he8f5f7f_1        12.7 MB  conda-forge\n",
      "    pango-1.50.3               |       h9967ed3_0         458 KB  conda-forge\n",
      "    patchelf-0.14.5            |       h58526e2_0          93 KB  conda-forge\n",
      "    pcre-8.45                  |       h9c3ff4c_0         253 KB  conda-forge\n",
      "    pillow-9.0.1               |   py37h44f0d7a_2        44.4 MB  conda-forge\n",
      "    pip-22.0.3                 |     pyhd8ed1ab_0         1.5 MB  conda-forge\n",
      "    pixman-0.40.0              |       h36c2ea0_0         627 KB  conda-forge\n",
      "    pkginfo-1.8.2              |     pyhd8ed1ab_0          23 KB  conda-forge\n",
      "    plotly-5.6.0               |     pyhd8ed1ab_0         6.9 MB  conda-forge\n",
      "    protobuf-3.19.4            |   py37hcd2ae1e_0         337 KB  conda-forge\n",
      "    psutil-5.9.0               |   py37h5e8e339_0         344 KB  conda-forge\n",
      "    pthread-stubs-0.4          |    h36c2ea0_1001           5 KB  conda-forge\n",
      "    py-lief-0.11.5             |   py37hcd2ae1e_1         1.4 MB  conda-forge\n",
      "    py-xgboost-1.5.1           |cpu_py37h08536eb_2         151 KB  conda-forge\n",
      "    pycosat-0.6.3              |py37h5e8e339_1009         107 KB  conda-forge\n",
      "    pycparser-2.21             |     pyhd8ed1ab_0         100 KB  conda-forge\n",
      "    pycurl-7.44.1              |   py37h88a64d2_1          70 KB  conda-forge\n",
      "    pyopenssl-22.0.0           |     pyhd8ed1ab_0          49 KB  conda-forge\n",
      "    pyparsing-3.0.7            |     pyhd8ed1ab_0          79 KB  conda-forge\n",
      "    pyqt-5.12.3                |   py37h89c1867_8          22 KB  conda-forge\n",
      "    pyqt-impl-5.12.3           |   py37hac37412_8         5.9 MB  conda-forge\n",
      "    pyqt5-sip-4.19.18          |   py37hcd2ae1e_8         310 KB  conda-forge\n",
      "    pyqtchart-5.12             |   py37he336c9b_8         257 KB  conda-forge\n",
      "    pyqtwebengine-5.12.1       |   py37he336c9b_8         175 KB  conda-forge\n",
      "    pysocks-1.7.1              |   py37h89c1867_4          28 KB  conda-forge\n",
      "    python-3.7.12              |hb7a2778_100_cpython        57.3 MB  conda-forge\n",
      "    python-dateutil-2.8.2      |     pyhd8ed1ab_0         240 KB  conda-forge\n",
      "    python-graphviz-0.19.1     |     pyhaef67bd_0          34 KB  conda-forge\n",
      "    python-libarchive-c-4.0    |   py37h89c1867_0          61 KB  conda-forge\n",
      "    python_abi-3.7             |          2_cp37m           4 KB  conda-forge\n",
      "    pytz-2021.3                |     pyhd8ed1ab_0         242 KB  conda-forge\n",
      "    pyyaml-6.0                 |   py37h5e8e339_3         187 KB  conda-forge\n",
      "    qt-5.12.9                  |       ha98a1a1_5        98.8 MB  conda-forge\n",
      "    qtpy-2.0.1                 |     pyhd8ed1ab_0          40 KB  conda-forge\n",
      "    readline-8.1               |       h46c0cb4_0         295 KB  conda-forge\n",
      "    requests-2.27.1            |     pyhd8ed1ab_0          53 KB  conda-forge\n",
      "    ripgrep-13.0.0             |       habb4d0f_1         1.7 MB  conda-forge\n",
      "    rtree-0.9.7                |   py37h0b55af0_3          45 KB  conda-forge\n",
      "    ruamel_yaml-0.15.80        |py37h5e8e339_1006         270 KB  conda-forge\n",
      "    scikit-learn-1.0.2         |   py37hf9e9bfc_0         7.8 MB  conda-forge\n",
      "    scipy-1.7.3                |   py37hf2a6cf1_0        21.8 MB  conda-forge\n",
      "    setuptools-59.8.0          |   py37h89c1867_0         1.0 MB  conda-forge\n",
      "    six-1.16.0                 |     pyh6c4a22f_0          14 KB  conda-forge\n",
      "    soupsieve-2.3.1            |     pyhd8ed1ab_0          33 KB  conda-forge\n",
      "    sqlite-3.37.0              |       h9cd32fc_0         1.5 MB  conda-forge\n",
      "    tbb-2021.5.0               |       h4bd325d_0         2.0 MB  conda-forge\n",
      "    tenacity-8.0.1             |     pyhd8ed1ab_0          21 KB  conda-forge\n",
      "    termcolor-1.1.0            |             py_2           6 KB  conda-forge\n",
      "    threadpoolctl-3.1.0        |     pyh8a188c0_0          18 KB  conda-forge\n",
      "    tk-8.6.12                  |       h27826a3_0         3.3 MB  conda-forge\n",
      "    tqdm-4.62.3                |     pyhd8ed1ab_0          80 KB  conda-forge\n",
      "    typing_extensions-4.1.1    |     pyha770c72_0          29 KB  conda-forge\n",
      "    unicodedata2-14.0.0        |   py37h5e8e339_0         501 KB  conda-forge\n",
      "    urllib3-1.26.8             |     pyhd8ed1ab_1         100 KB  conda-forge\n",
      "    werkzeug-0.16.1            |             py_0         255 KB  conda-forge\n",
      "    wheel-0.37.1               |     pyhd8ed1ab_0          31 KB  conda-forge\n",
      "    wrapt-1.13.3               |   py37h5e8e339_1          48 KB  conda-forge\n",
      "    xorg-kbproto-1.0.7         |    h7f98852_1002          27 KB  conda-forge\n",
      "    xorg-libice-1.0.10         |       h7f98852_0          58 KB  conda-forge\n",
      "    xorg-libsm-1.2.3           |    hd9c2040_1000          26 KB  conda-forge\n",
      "    xorg-libx11-1.7.2          |       h7f98852_0         941 KB  conda-forge\n",
      "    xorg-libxau-1.0.9          |       h7f98852_0          13 KB  conda-forge\n",
      "    xorg-libxdmcp-1.1.3        |       h7f98852_0          19 KB  conda-forge\n",
      "    xorg-libxext-1.3.4         |       h7f98852_1          54 KB  conda-forge\n",
      "    xorg-libxrender-0.9.10     |    h7f98852_1003          32 KB  conda-forge\n",
      "    xorg-renderproto-0.11.1    |    h7f98852_1002           9 KB  conda-forge\n",
      "    xorg-xextproto-7.3.0       |    h7f98852_1002          28 KB  conda-forge\n",
      "    xorg-xproto-7.0.31         |    h7f98852_1007          73 KB  conda-forge\n",
      "    xz-5.2.5                   |       h516909a_1         343 KB  conda-forge\n",
      "    yaml-0.2.5                 |       h7f98852_2          87 KB  conda-forge\n",
      "    zipp-3.7.0                 |     pyhd8ed1ab_1          12 KB  conda-forge\n",
      "    zlib-1.2.11                |    h36c2ea0_1013          86 KB  conda-forge\n",
      "    zstd-1.5.2                 |       ha95c52a_0         458 KB  conda-forge\n",
      "    ------------------------------------------------------------\n",
      "                                           Total:        1.27 GB\n",
      "\n",
      "The following NEW packages will be INSTALLED:\n",
      "\n",
      "  alsa-lib           conda-forge/linux-64::alsa-lib-1.2.3-h516909a_0\n",
      "  atk-1.0            conda-forge/linux-64::atk-1.0-2.36.0-h3371d22_4\n",
      "  brotli             conda-forge/linux-64::brotli-1.0.9-h7f98852_6\n",
      "  brotli-bin         conda-forge/linux-64::brotli-bin-1.0.9-h7f98852_6\n",
      "  cached-property    conda-forge/noarch::cached-property-1.5.2-hd8ed1ab_1\n",
      "  cached_property    conda-forge/noarch::cached_property-1.5.2-pyha770c72_1\n",
      "  cairo              conda-forge/linux-64::cairo-1.16.0-ha00ac49_1009\n",
      "  catboost           conda-forge/linux-64::catboost-1.0.4-py37h89c1867_3\n",
      "  charset-normalizer conda-forge/noarch::charset-normalizer-2.0.12-pyhd8ed1ab_0\n",
      "  colorama           conda-forge/noarch::colorama-0.4.4-pyh9f0ad1d_0\n",
      "  cycler             conda-forge/noarch::cycler-0.11.0-pyhd8ed1ab_0\n",
      "  font-ttf-dejavu-s~ conda-forge/noarch::font-ttf-dejavu-sans-mono-2.37-hab24e00_0\n",
      "  font-ttf-inconsol~ conda-forge/noarch::font-ttf-inconsolata-3.000-h77eed37_0\n",
      "  font-ttf-source-c~ conda-forge/noarch::font-ttf-source-code-pro-2.038-h77eed37_0\n",
      "  font-ttf-ubuntu    conda-forge/noarch::font-ttf-ubuntu-0.83-hab24e00_0\n",
      "  fonts-conda-ecosy~ conda-forge/noarch::fonts-conda-ecosystem-1-0\n",
      "  fonts-conda-forge  conda-forge/noarch::fonts-conda-forge-1-0\n",
      "  fonttools          conda-forge/linux-64::fonttools-4.29.1-py37h5e8e339_0\n",
      "  fribidi            conda-forge/linux-64::fribidi-1.0.10-h36c2ea0_0\n",
      "  gdk-pixbuf         conda-forge/linux-64::gdk-pixbuf-2.42.6-h04a7f16_0\n",
      "  gettext            conda-forge/linux-64::gettext-0.19.8.1-h73d1719_1008\n",
      "  giflib             conda-forge/linux-64::giflib-5.2.1-h36c2ea0_2\n",
      "  graphite2          conda-forge/linux-64::graphite2-1.3.13-h58526e2_1001\n",
      "  graphviz           conda-forge/linux-64::graphviz-2.50.0-h8e749b2_2\n",
      "  gtk2               conda-forge/linux-64::gtk2-2.24.33-h90689f9_2\n",
      "  gts                conda-forge/linux-64::gts-0.7.6-h64030ff_2\n",
      "  harfbuzz           conda-forge/linux-64::harfbuzz-3.4.0-hb4a5f5f_0\n",
      "  jbig               conda-forge/linux-64::jbig-2.1-h7f98852_2003\n",
      "  kiwisolver         conda-forge/linux-64::kiwisolver-1.3.2-py37h2527ec5_1\n",
      "  lcms2              conda-forge/linux-64::lcms2-2.12-hddcbb42_0\n",
      "  lerc               conda-forge/linux-64::lerc-3.0-h9c3ff4c_0\n",
      "  libbrotlicommon    conda-forge/linux-64::libbrotlicommon-1.0.9-h7f98852_6\n",
      "  libbrotlidec       conda-forge/linux-64::libbrotlidec-1.0.9-h7f98852_6\n",
      "  libbrotlienc       conda-forge/linux-64::libbrotlienc-1.0.9-h7f98852_6\n",
      "  libclang           conda-forge/linux-64::libclang-13.0.1-default_hc23dcda_0\n",
      "  libdeflate         conda-forge/linux-64::libdeflate-1.10-h7f98852_0\n",
      "  libev              conda-forge/linux-64::libev-4.33-h516909a_1\n",
      "  libevent           conda-forge/linux-64::libevent-2.1.10-h9b69904_4\n",
      "  libgd              conda-forge/linux-64::libgd-2.3.3-h3cfcdeb_1\n",
      "  libglib            conda-forge/linux-64::libglib-2.70.2-h174f98d_4\n",
      "  libiconv           conda-forge/linux-64::libiconv-1.16-h516909a_0\n",
      "  libllvm13          conda-forge/linux-64::libllvm13-13.0.1-hf817b99_2\n",
      "  libnghttp2         conda-forge/linux-64::libnghttp2-1.47.0-h727a467_0\n",
      "  libnsl             conda-forge/linux-64::libnsl-2.0.0-h7f98852_0\n",
      "  libogg             conda-forge/linux-64::libogg-1.3.4-h7f98852_1\n",
      "  libopus            conda-forge/linux-64::libopus-1.3.1-h7f98852_1\n",
      "  libpq              conda-forge/linux-64::libpq-14.2-hd57d9b9_0\n",
      "  librsvg            conda-forge/linux-64::librsvg-2.52.5-h0a9e6e8_2\n",
      "  libtiff            conda-forge/linux-64::libtiff-4.3.0-h542a066_3\n",
      "  libtool            conda-forge/linux-64::libtool-2.4.6-h9c3ff4c_1008\n",
      "  libvorbis          conda-forge/linux-64::libvorbis-1.3.7-h9c3ff4c_0\n",
      "  libwebp            conda-forge/linux-64::libwebp-1.2.2-h3452ae3_0\n",
      "  libwebp-base       conda-forge/linux-64::libwebp-base-1.2.2-h7f98852_1\n",
      "  libxkbcommon       conda-forge/linux-64::libxkbcommon-1.0.3-he3ba5ed_0\n",
      "  libzlib            conda-forge/linux-64::libzlib-1.2.11-h36c2ea0_1013\n",
      "  llvm-openmp        conda-forge/linux-64::llvm-openmp-13.0.1-hf817b99_0\n",
      "  lzo                conda-forge/linux-64::lzo-2.10-h516909a_1000\n",
      "  matplotlib-base    conda-forge/linux-64::matplotlib-base-3.5.1-py37h1058ff1_0\n",
      "  munkres            conda-forge/noarch::munkres-1.1.4-pyh9f0ad1d_0\n",
      "  mysql-common       conda-forge/linux-64::mysql-common-8.0.28-ha770c72_0\n",
      "  mysql-libs         conda-forge/linux-64::mysql-libs-8.0.28-hfa10184_0\n",
      "  nspr               conda-forge/linux-64::nspr-4.32-h9c3ff4c_1\n",
      "  nss                conda-forge/linux-64::nss-3.74-hb5efdd6_0\n",
      "  openjpeg           conda-forge/linux-64::openjpeg-2.4.0-hb52868f_1\n",
      "  packaging          conda-forge/noarch::packaging-21.3-pyhd8ed1ab_0\n",
      "  pandas             conda-forge/linux-64::pandas-1.3.4-py37he8f5f7f_1\n",
      "  pango              conda-forge/linux-64::pango-1.50.3-h9967ed3_0\n",
      "  pillow             conda-forge/linux-64::pillow-9.0.1-py37h44f0d7a_2\n",
      "  pixman             conda-forge/linux-64::pixman-0.40.0-h36c2ea0_0\n",
      "  plotly             conda-forge/noarch::plotly-5.6.0-pyhd8ed1ab_0\n",
      "  pthread-stubs      conda-forge/linux-64::pthread-stubs-0.4-h36c2ea0_1001\n",
      "  pyparsing          conda-forge/noarch::pyparsing-3.0.7-pyhd8ed1ab_0\n",
      "  pyqt-impl          conda-forge/linux-64::pyqt-impl-5.12.3-py37hac37412_8\n",
      "  pyqt5-sip          conda-forge/linux-64::pyqt5-sip-4.19.18-py37hcd2ae1e_8\n",
      "  pyqtchart          conda-forge/linux-64::pyqtchart-5.12-py37he336c9b_8\n",
      "  pyqtwebengine      conda-forge/linux-64::pyqtwebengine-5.12.1-py37he336c9b_8\n",
      "  python-dateutil    conda-forge/noarch::python-dateutil-2.8.2-pyhd8ed1ab_0\n",
      "  python-graphviz    conda-forge/noarch::python-graphviz-0.19.1-pyhaef67bd_0\n",
      "  tbb                conda-forge/linux-64::tbb-2021.5.0-h4bd325d_0\n",
      "  tenacity           conda-forge/noarch::tenacity-8.0.1-pyhd8ed1ab_0\n",
      "  typing_extensions  conda-forge/noarch::typing_extensions-4.1.1-pyha770c72_0\n",
      "  unicodedata2       conda-forge/linux-64::unicodedata2-14.0.0-py37h5e8e339_0\n",
      "  xorg-kbproto       conda-forge/linux-64::xorg-kbproto-1.0.7-h7f98852_1002\n",
      "  xorg-libice        conda-forge/linux-64::xorg-libice-1.0.10-h7f98852_0\n",
      "  xorg-libsm         conda-forge/linux-64::xorg-libsm-1.2.3-hd9c2040_1000\n",
      "  xorg-libx11        conda-forge/linux-64::xorg-libx11-1.7.2-h7f98852_0\n",
      "  xorg-libxau        conda-forge/linux-64::xorg-libxau-1.0.9-h7f98852_0\n",
      "  xorg-libxdmcp      conda-forge/linux-64::xorg-libxdmcp-1.1.3-h7f98852_0\n",
      "  xorg-libxext       conda-forge/linux-64::xorg-libxext-1.3.4-h7f98852_1\n",
      "  xorg-libxrender    conda-forge/linux-64::xorg-libxrender-0.9.10-h7f98852_1003\n",
      "  xorg-renderproto   conda-forge/linux-64::xorg-renderproto-0.11.1-h7f98852_1002\n",
      "  xorg-xextproto     conda-forge/linux-64::xorg-xextproto-7.3.0-h7f98852_1002\n",
      "  xorg-xproto        conda-forge/linux-64::xorg-xproto-7.0.31-h7f98852_1007\n",
      "\n",
      "The following packages will be REMOVED:\n",
      "\n",
      "  backports-1.0-py_2\n",
      "  backports.functools_lru_cache-1.6.1-py_0\n",
      "  backports.tempfile-1.0-py_1\n",
      "  backports.weakref-1.0.post1-py_1\n",
      "  glib-2.56.2-hd408876_0\n",
      "  intel-openmp-2020.2-254\n",
      "  libgomp-9.3.0-h5101ec6_17\n",
      "  sip-4.19.24-py37he6710b0_0\n",
      "\n",
      "The following packages will be UPDATED:\n",
      "\n",
      "  _py-xgboost-mutex                                anaconda --> conda-forge\n",
      "  absl-py            anaconda/linux-64::absl-py-0.10.0-py3~ --> conda-forge/noarch::absl-py-0.12.0-pyhd8ed1ab_0\n",
      "  beautifulsoup4     anaconda::beautifulsoup4-4.9.3-pyhb0f~ --> conda-forge::beautifulsoup4-4.10.0-pyha770c72_0\n",
      "  brotlipy           anaconda::brotlipy-0.7.0-py37h7b6447c~ --> conda-forge::brotlipy-0.7.0-py37h5e8e339_1003\n",
      "  bzip2                    anaconda::bzip2-1.0.8-h7b6447c_0 --> conda-forge::bzip2-1.0.8-h7f98852_4\n",
      "  c-ares                 anaconda::c-ares-1.16.1-h7b6447c_0 --> conda-forge::c-ares-1.18.1-h7f98852_0\n",
      "  ca-certificates    anaconda::ca-certificates-2020.10.14-0 --> conda-forge::ca-certificates-2021.10.8-ha878542_0\n",
      "  certifi                anaconda::certifi-2020.6.20-py37_0 --> conda-forge::certifi-2021.10.8-py37h89c1867_1\n",
      "  cffi                 anaconda::cffi-1.14.3-py37he30daa8_0 --> conda-forge::cffi-1.15.0-py37h036bc23_0\n",
      "  chardet                 anaconda::chardet-3.0.4-py37_1003 --> conda-forge::chardet-4.0.0-py37h89c1867_2\n",
      "  click                   anaconda/noarch::click-7.1.2-py_0 --> conda-forge/linux-64::click-8.0.4-py37h89c1867_0\n",
      "  conda                        anaconda::conda-4.9.0-py37_0 --> conda-forge::conda-4.11.0-py37h89c1867_0\n",
      "  conda-build           anaconda::conda-build-3.20.4-py37_1 --> conda-forge::conda-build-3.21.8-py37h89c1867_0\n",
      "  conda-package-han~ anaconda::conda-package-handling-1.7.~ --> conda-forge::conda-package-handling-1.7.3-py37h5e8e339_1\n",
      "  cryptography       anaconda::cryptography-3.1.1-py37h1ba~ --> conda-forge::cryptography-36.0.1-py37hf1a17b8_0\n",
      "  cudatoolkit              anaconda::cudatoolkit-10.0.130-0 --> conda-forge::cudatoolkit-10.0.130-hf841e97_10\n",
      "  cudnn                    anaconda::cudnn-7.6.5-cuda10.0_0 --> conda-forge::cudnn-7.6.5.32-ha8d7eb6_1\n",
      "  expat                   anaconda::expat-2.2.10-he6710b0_2 --> conda-forge::expat-2.4.6-h27087fc_0\n",
      "  filelock                   anaconda::filelock-3.0.12-py_0 --> conda-forge::filelock-3.6.0-pyhd8ed1ab_0\n",
      "  fontconfig         anaconda::fontconfig-2.13.0-h9420a91_0 --> conda-forge::fontconfig-2.13.96-ha180cfb_0\n",
      "  freetype             anaconda::freetype-2.10.4-h5ab3b9f_0 --> conda-forge::freetype-2.10.4-h0708190_1\n",
      "  future                     anaconda::future-0.18.2-py37_1 --> conda-forge::future-0.18.2-py37h89c1867_4\n",
      "  grpcio             anaconda::grpcio-1.31.0-py37hf8bcb03_0 --> conda-forge::grpcio-1.44.0-py37hb27c1af_0\n",
      "  gst-plugins-base   anaconda::gst-plugins-base-1.14.0-hbb~ --> conda-forge::gst-plugins-base-1.18.5-hf529b03_3\n",
      "  gstreamer           anaconda::gstreamer-1.14.0-hb453b48_1 --> conda-forge::gstreamer-1.18.5-h9f60fe5_3\n",
      "  h5py                 anaconda::h5py-2.10.0-py37hd6299e0_1 --> conda-forge::h5py-3.6.0-nompi_py37hd308b1e_100\n",
      "  hdf5                           1.10.6-nompi_h6a2412b_1114 --> 1.12.1-nompi_h2750804_103\n",
      "  icu                         anaconda::icu-58.2-he6710b0_3 --> conda-forge::icu-69.1-h9c3ff4c_0\n",
      "  idna                             anaconda::idna-2.10-py_0 --> conda-forge::idna-3.3-pyhd8ed1ab_0\n",
      "  importlib-metadata anaconda/noarch::importlib-metadata-2~ --> conda-forge/linux-64::importlib-metadata-4.11.1-py37h89c1867_0\n",
      "  jinja2                       anaconda::jinja2-2.11.2-py_0 --> conda-forge::jinja2-3.0.3-pyhd8ed1ab_0\n",
      "  joblib                       anaconda::joblib-0.17.0-py_0 --> conda-forge::joblib-1.1.0-pyhd8ed1ab_0\n",
      "  jpeg                         anaconda::jpeg-9b-habf39ab_1 --> conda-forge::jpeg-9e-h7f98852_0\n",
      "  keras-preprocessi~ anaconda::keras-preprocessing-1.1.0-p~ --> conda-forge::keras-preprocessing-1.1.2-pyhd8ed1ab_0\n",
      "  krb5                     anaconda::krb5-1.18.2-h173b8e3_0 --> conda-forge::krb5-1.19.2-hcc1bbae_3\n",
      "  ld_impl_linux-64   anaconda::ld_impl_linux-64-2.33.1-h53~ --> conda-forge::ld_impl_linux-64-2.36.1-hea4e1c9_2\n",
      "  libarchive          anaconda::libarchive-3.4.2-h62408e4_0 --> conda-forge::libarchive-3.5.2-hccf745f_1\n",
      "  libblas                                  3.9.0-7_openblas --> 3.9.0-13_linux64_openblas\n",
      "  libcblas                                 3.9.0-7_openblas --> 3.9.0-13_linux64_openblas\n",
      "  libcurl               anaconda::libcurl-7.71.1-h20c2e04_1 --> conda-forge::libcurl-7.81.0-h2574ce0_0\n",
      "  libedit            anaconda::libedit-3.1.20191231-h14c39~ --> conda-forge::libedit-3.1.20191231-he28a2e2_2\n",
      "  libffi                    anaconda::libffi-3.3-he6710b0_2 --> conda-forge::libffi-3.4.2-h7f98852_5\n",
      "  libgcc-ng          pkgs/main::libgcc-ng-9.3.0-h5101ec6_17 --> conda-forge::libgcc-ng-11.2.0-h1d223b6_12\n",
      "  libgfortran-ng     pkgs/main::libgfortran-ng-9.3.0-ha5ec~ --> conda-forge::libgfortran-ng-11.2.0-h69a702a_12\n",
      "  libgfortran5       pkgs/main::libgfortran5-9.3.0-ha5ec8a~ --> conda-forge::libgfortran5-11.2.0-h5c6108e_12\n",
      "  liblapack                                3.9.0-7_openblas --> 3.9.0-13_linux64_openblas\n",
      "  liblief               anaconda::liblief-0.10.1-he6710b0_0 --> conda-forge::liblief-0.11.5-h9c3ff4c_1\n",
      "  libopenblas                    0.3.12-pthreads_h4812303_1 --> 0.3.18-pthreads_h8fe5266_0\n",
      "  libpng                 anaconda::libpng-1.6.37-hbc83047_0 --> conda-forge::libpng-1.6.37-h21135ba_2\n",
      "  libprotobuf        anaconda::libprotobuf-3.13.0.1-hd4088~ --> conda-forge::libprotobuf-3.19.4-h780b84a_0\n",
      "  libspatialindex    anaconda::libspatialindex-1.9.3-he671~ --> conda-forge::libspatialindex-1.9.3-h9c3ff4c_4\n",
      "  libssh2                anaconda::libssh2-1.9.0-h1ba5d50_1 --> conda-forge::libssh2-1.10.0-ha56f1ee_2\n",
      "  libstdcxx-ng       pkgs/main::libstdcxx-ng-9.3.0-hd4cf53~ --> conda-forge::libstdcxx-ng-11.2.0-he4da1e4_12\n",
      "  libuuid                anaconda::libuuid-1.0.3-h1bed415_2 --> conda-forge::libuuid-2.32.1-h7f98852_1000\n",
      "  libxgboost           anaconda::libxgboost-0.90-he6710b0_1 --> conda-forge::libxgboost-1.5.1-cpu_h3d145d1_2\n",
      "  libxml2               anaconda::libxml2-2.9.10-hb55368b_3 --> conda-forge::libxml2-2.9.12-h885dcf4_1\n",
      "  lz4-c                    anaconda::lz4-c-1.9.2-heb0550a_3 --> conda-forge::lz4-c-1.9.3-h9c3ff4c_1\n",
      "  markdown           anaconda/linux-64::markdown-3.3.2-py3~ --> conda-forge/noarch::markdown-3.3.6-pyhd8ed1ab_0\n",
      "  markupsafe         anaconda::markupsafe-1.1.1-py37h14c39~ --> conda-forge::markupsafe-2.1.0-py37h540881e_0\n",
      "  mkl                              anaconda::mkl-2019.4-243 --> conda-forge::mkl-2022.0.1-h8d4b97c_803\n",
      "  mkl-service        anaconda::mkl-service-2.3.0-py37he904~ --> conda-forge::mkl-service-2.4.0-py37hc4a68ce_0\n",
      "  navigator-updater  anaconda::navigator-updater-0.2.1-py3~ --> pkgs/main::navigator-updater-0.2.1-py37_1\n",
      "  ncurses                  anaconda::ncurses-6.2-he6710b0_1 --> conda-forge::ncurses-6.3-h9c3ff4c_0\n",
      "  numpy                               1.19.5-py37haa41c4c_0 --> 1.21.5-py37hf2998dd_0\n",
      "  opt_einsum                anaconda::opt_einsum-3.1.0-py_0 --> conda-forge::opt_einsum-3.3.0-pyhd8ed1ab_1\n",
      "  patchelf               anaconda::patchelf-0.12-he6710b0_0 --> conda-forge::patchelf-0.14.5-h58526e2_0\n",
      "  pcre                       anaconda::pcre-8.44-he6710b0_0 --> conda-forge::pcre-8.45-h9c3ff4c_0\n",
      "  pip                  anaconda/linux-64::pip-20.2.4-py37_0 --> conda-forge/noarch::pip-22.0.3-pyhd8ed1ab_0\n",
      "  pkginfo            anaconda/linux-64::pkginfo-1.6.0-py37~ --> conda-forge/noarch::pkginfo-1.8.2-pyhd8ed1ab_0\n",
      "  protobuf           anaconda::protobuf-3.13.0.1-py37he671~ --> conda-forge::protobuf-3.19.4-py37hcd2ae1e_0\n",
      "  psutil              anaconda::psutil-5.7.2-py37h7b6447c_0 --> conda-forge::psutil-5.9.0-py37h5e8e339_0\n",
      "  py-lief            anaconda::py-lief-0.10.1-py37h403a769~ --> conda-forge::py-lief-0.11.5-py37hcd2ae1e_1\n",
      "  py-xgboost         anaconda::py-xgboost-0.90-py37he6710b~ --> conda-forge::py-xgboost-1.5.1-cpu_py37h08536eb_2\n",
      "  pycosat            anaconda::pycosat-0.6.3-py37h7b6447c_0 --> conda-forge::pycosat-0.6.3-py37h5e8e339_1009\n",
      "  pycparser                   anaconda::pycparser-2.20-py_2 --> conda-forge::pycparser-2.21-pyhd8ed1ab_0\n",
      "  pycurl             anaconda::pycurl-7.43.0.6-py37h1ba5d5~ --> conda-forge::pycurl-7.44.1-py37h88a64d2_1\n",
      "  pyopenssl                 anaconda::pyopenssl-19.1.0-py_1 --> conda-forge::pyopenssl-22.0.0-pyhd8ed1ab_0\n",
      "  pyqt                  anaconda::pyqt-5.9.2-py37h22d08a2_1 --> conda-forge::pyqt-5.12.3-py37h89c1867_8\n",
      "  pysocks                    anaconda::pysocks-1.7.1-py37_1 --> conda-forge::pysocks-1.7.1-py37h89c1867_4\n",
      "  python                  anaconda::python-3.7.9-h7579374_0 --> conda-forge::python-3.7.12-hb7a2778_100_cpython\n",
      "  python-libarchive~ anaconda/noarch::python-libarchive-c-~ --> conda-forge/linux-64::python-libarchive-c-4.0-py37h89c1867_0\n",
      "  python_abi                                    3.7-1_cp37m --> 3.7-2_cp37m\n",
      "  pytz                           anaconda::pytz-2020.1-py_0 --> conda-forge::pytz-2021.3-pyhd8ed1ab_0\n",
      "  pyyaml              anaconda::pyyaml-5.3.1-py37h7b6447c_1 --> conda-forge::pyyaml-6.0-py37h5e8e339_3\n",
      "  qt                          anaconda::qt-5.9.7-h5867ecd_1 --> conda-forge::qt-5.12.9-ha98a1a1_5\n",
      "  qtpy                            anaconda::qtpy-1.9.0-py_0 --> conda-forge::qtpy-2.0.1-pyhd8ed1ab_0\n",
      "  readline                anaconda::readline-8.0-h7b6447c_0 --> conda-forge::readline-8.1-h46c0cb4_0\n",
      "  requests                   anaconda::requests-2.24.0-py_0 --> conda-forge::requests-2.27.1-pyhd8ed1ab_0\n",
      "  ripgrep                        anaconda::ripgrep-12.1.1-0 --> conda-forge::ripgrep-13.0.0-habb4d0f_1\n",
      "  rtree                        anaconda::rtree-0.9.4-py37_1 --> conda-forge::rtree-0.9.7-py37h0b55af0_3\n",
      "  scikit-learn       anaconda::scikit-learn-0.23.2-py37h05~ --> conda-forge::scikit-learn-1.0.2-py37hf9e9bfc_0\n",
      "  scipy                                1.6.0-py37h14a347d_0 --> 1.7.3-py37hf2a6cf1_0\n",
      "  setuptools         anaconda::setuptools-50.3.0-py37hb0f4~ --> conda-forge::setuptools-59.8.0-py37h89c1867_0\n",
      "  six                             anaconda::six-1.15.0-py_0 --> conda-forge::six-1.16.0-pyh6c4a22f_0\n",
      "  soupsieve                  anaconda::soupsieve-2.0.1-py_0 --> conda-forge::soupsieve-2.3.1-pyhd8ed1ab_0\n",
      "  sqlite                 anaconda::sqlite-3.33.0-h62c20be_0 --> conda-forge::sqlite-3.37.0-h9cd32fc_0\n",
      "  termcolor          anaconda/linux-64::termcolor-1.1.0-py~ --> conda-forge/noarch::termcolor-1.1.0-py_2\n",
      "  threadpoolctl      anaconda::threadpoolctl-2.1.0-pyh5ca1~ --> conda-forge::threadpoolctl-3.1.0-pyh8a188c0_0\n",
      "  tk                         anaconda::tk-8.6.10-hbc83047_0 --> conda-forge::tk-8.6.12-h27826a3_0\n",
      "  tqdm                           anaconda::tqdm-4.50.2-py_0 --> conda-forge::tqdm-4.62.3-pyhd8ed1ab_0\n",
      "  urllib3                    anaconda::urllib3-1.25.11-py_0 --> conda-forge::urllib3-1.26.8-pyhd8ed1ab_1\n",
      "  werkzeug           anaconda/linux-64::werkzeug-0.14.1-py~ --> conda-forge/noarch::werkzeug-0.16.1-py_0\n",
      "  wheel                         anaconda::wheel-0.35.1-py_0 --> conda-forge::wheel-0.37.1-pyhd8ed1ab_0\n",
      "  wrapt               anaconda::wrapt-1.12.1-py37h7b6447c_1 --> conda-forge::wrapt-1.13.3-py37h5e8e339_1\n",
      "  xz                          anaconda::xz-5.2.5-h7b6447c_0 --> conda-forge::xz-5.2.5-h516909a_1\n",
      "  yaml                      anaconda::yaml-0.2.5-h7b6447c_0 --> conda-forge::yaml-0.2.5-h7f98852_2\n",
      "  zipp                            anaconda::zipp-3.3.1-py_0 --> conda-forge::zipp-3.7.0-pyhd8ed1ab_1\n",
      "  zlib                     anaconda::zlib-1.2.11-h7b6447c_3 --> conda-forge::zlib-1.2.11-h36c2ea0_1013\n",
      "  zstd                      anaconda::zstd-1.4.4-h0b5b093_3 --> conda-forge::zstd-1.5.2-ha95c52a_0\n",
      "\n",
      "The following packages will be SUPERSEDED by a higher-priority channel:\n",
      "\n",
      "  _libgcc_mutex            anaconda::_libgcc_mutex-0.1-main --> conda-forge::_libgcc_mutex-0.1-conda_forge\n",
      "  _openmp_mutex          pkgs/main::_openmp_mutex-4.5-1_gnu --> conda-forge::_openmp_mutex-4.5-1_llvm\n",
      "  astor               anaconda/linux-64::astor-0.8.1-py37_0 --> conda-forge/noarch::astor-0.8.1-pyh9f0ad1d_0\n",
      "  clyent             anaconda/linux-64::clyent-1.2.2-py37_1 --> conda-forge/noarch::clyent-1.2.2-py_1\n",
      "  conda-verify       anaconda/noarch::conda-verify-3.4.2-p~ --> conda-forge/linux-64::conda-verify-3.1.1-py37h89c1867_1004\n",
      "  dbus                    anaconda::dbus-1.13.18-hb2f20db_0 --> conda-forge::dbus-1.13.6-h5008d03_3\n",
      "  glob2                                            anaconda --> conda-forge\n",
      "  google-pasta            anaconda::google-pasta-0.2.0-py_0 --> conda-forge::google-pasta-0.2.0-pyh8c360ce_0\n",
      "  keras-applications                               anaconda --> conda-forge\n",
      "  libxcb                   anaconda::libxcb-1.14-h7b6447c_0 --> conda-forge::libxcb-1.13-h7f98852_1004\n",
      "  openssl              pkgs/main::openssl-1.1.1m-h7f8727e_0 --> conda-forge::openssl-1.1.1l-h7f98852_0\n",
      "  ruamel_yaml        anaconda::ruamel_yaml-0.15.87-py37h7b~ --> conda-forge::ruamel_yaml-0.15.80-py37h5e8e339_1006\n",
      "\n",
      "\n",
      "\n",
      "Downloading and Extracting Packages\n"
     ]
    },
    {
     "name": "stdout",
     "output_type": "stream",
     "text": [
      "beautifulsoup4-4.10. | 77 KB     | ##################################### | 100% \n",
      "pyqt-impl-5.12.3     | 5.9 MB    | ##################################### | 100% \n",
      "harfbuzz-3.4.0       | 2.2 MB    | ##################################### | 100% \n",
      "libssh2-1.10.0       | 233 KB    | ##################################### | 100% \n",
      "py-lief-0.11.5       | 1.4 MB    | ##################################### | 100% \n",
      "libgfortran-ng-11.2. | 19 KB     | ##################################### | 100% \n",
      "dbus-1.13.6          | 604 KB    | ##################################### | 100% \n",
      "cryptography-36.0.1  | 1.7 MB    | ##################################### | 100% \n",
      "xorg-libsm-1.2.3     | 26 KB     | ##################################### | 100% \n",
      "cffi-1.15.0          | 225 KB    | ##################################### | 100% \n",
      "pillow-9.0.1         | 44.4 MB   | ##################################### | 100% \n",
      "pyqtchart-5.12       | 257 KB    | ##################################### | 100% \n",
      "pthread-stubs-0.4    | 5 KB      | ##################################### | 100% \n",
      "future-0.18.2        | 713 KB    | ##################################### | 100% \n",
      "pandas-1.3.4         | 12.7 MB   | ##################################### | 100% \n",
      "pyyaml-6.0           | 187 KB    | ##################################### | 100% \n",
      "joblib-1.1.0         | 210 KB    | ##################################### | 100% \n",
      "python-graphviz-0.19 | 34 KB     | ##################################### | 100% \n",
      "cairo-1.16.0         | 1.5 MB    | ##################################### | 100% \n",
      "xorg-libice-1.0.10   | 58 KB     | ##################################### | 100% \n",
      "unicodedata2-14.0.0  | 501 KB    | ##################################### | 100% \n",
      "yaml-0.2.5           | 87 KB     | ##################################### | 100% \n",
      "brotli-1.0.9         | 18 KB     | ##################################### | 100% \n",
      "libcurl-7.81.0       | 338 KB    | ##################################### | 100% \n",
      "lz4-c-1.9.3          | 179 KB    | ##################################### | 100% \n",
      "libarchive-3.5.2     | 1.6 MB    | ##################################### | 100% \n",
      "brotlipy-0.7.0       | 342 KB    | ##################################### | 100% \n",
      "_py-xgboost-mutex-2. | 8 KB      | ##################################### | 100% \n",
      "nss-3.74             | 2.1 MB    | ##################################### | 100% \n",
      "wrapt-1.13.3         | 48 KB     | ##################################### | 100% \n",
      "bzip2-1.0.8          | 484 KB    | ##################################### | 100% \n",
      "pycparser-2.21       | 100 KB    | ##################################### | 100% \n",
      "zstd-1.5.2           | 458 KB    | ##################################### | 100% \n",
      "opt_einsum-3.3.0     | 53 KB     | ##################################### | 100% \n",
      "tenacity-8.0.1       | 21 KB     | ##################################### | 100% \n",
      "libblas-3.9.0        | 12 KB     | ##################################### | 100% \n",
      "gstreamer-1.18.5     | 2.0 MB    | ##################################### | 100% \n",
      "gettext-0.19.8.1     | 3.6 MB    | ##################################### | 100% \n",
      "openjpeg-2.4.0       | 444 KB    | ##################################### | 100% \n",
      "libgd-2.3.3          | 267 KB    | ##################################### | 100% \n",
      "threadpoolctl-3.1.0  | 18 KB     | ##################################### | 100% \n",
      "libpq-14.2           | 3.0 MB    | ##################################### | 100% \n",
      "mkl-2022.0.1         | 199.3 MB  | ##################################### | 100% \n",
      "filelock-3.6.0       | 12 KB     | ##################################### | 100% \n",
      "cudatoolkit-10.0.130 | 336.5 MB  | ##################################### | 100% \n",
      "catboost-1.0.4       | 59.9 MB   | ##################################### | 100% \n",
      "xorg-renderproto-0.1 | 9 KB      | ##################################### | 100% \n",
      "giflib-5.2.1         | 77 KB     | ##################################### | 100% \n",
      "libllvm13-13.0.1     | 33.6 MB   | ##################################### | 100% \n",
      "fonts-conda-forge-1  | 4 KB      | ##################################### | 100% \n",
      "libwebp-1.2.2        | 85 KB     | ##################################### | 100% \n",
      "qt-5.12.9            | 98.8 MB   | ##################################### | 100% \n",
      "h5py-3.6.0           | 1.3 MB    | ##################################### | 100% \n",
      "pango-1.50.3         | 458 KB    | ##################################### | 100% \n",
      "librsvg-2.52.5       | 5.3 MB    | ##################################### | 100% \n",
      "kiwisolver-1.3.2     | 78 KB     | ##################################### | 100% \n",
      "libuuid-2.32.1       | 28 KB     | ##################################### | 100% \n",
      "psutil-5.9.0         | 344 KB    | ##################################### | 100% \n",
      "libxml2-2.9.12       | 760 KB    | ##################################### | 100% \n",
      "qtpy-2.0.1           | 40 KB     | ##################################### | 100% \n",
      "xorg-libxrender-0.9. | 32 KB     | ##################################### | 100% \n",
      "openssl-1.1.1l       | 2.1 MB    | ##################################### | 100% \n",
      "libspatialindex-1.9. | 4.6 MB    | ##################################### | 100% \n",
      "conda-4.11.0         | 16.9 MB   | ##################################### | 100% \n",
      "pixman-0.40.0        | 627 KB    | ##################################### | 100% \n",
      "idna-3.3             | 55 KB     | ##################################### | 100% \n",
      "pyqt5-sip-4.19.18    | 310 KB    | ##################################### | 100% \n",
      "libzlib-1.2.11       | 59 KB     | ##################################### | 100% \n",
      "libglib-2.70.2       | 3.1 MB    | ##################################### | 100% \n",
      "libnsl-2.0.0         | 31 KB     | ##################################### | 100% \n",
      "navigator-updater-0. | 687 KB    | ##################################### | 100% \n",
      "c-ares-1.18.1        | 113 KB    | ##################################### | 100% \n",
      "xorg-kbproto-1.0.7   | 27 KB     | ##################################### | 100% \n",
      "lzo-2.10             | 314 KB    | ##################################### | 100% \n",
      "graphite2-1.3.13     | 102 KB    | ##################################### | 100% \n",
      "libxgboost-1.5.1     | 3.6 MB    | ##################################### | 100% \n",
      "cached-property-1.5. | 4 KB      | ##################################### | 100% \n",
      "glob2-0.7            | 11 KB     | ##################################### | 100% \n",
      "expat-2.4.6          | 186 KB    | ##################################### | 100% \n",
      "grpcio-1.44.0        | 2.5 MB    | ##################################### | 100% \n",
      "libiconv-1.16        | 1.4 MB    | ##################################### | 100% \n",
      "zlib-1.2.11          | 86 KB     | ##################################### | 100% \n",
      "libbrotlienc-1.0.9   | 286 KB    | ##################################### | 100% \n",
      "setuptools-59.8.0    | 1.0 MB    | ##################################### | 100% \n",
      "tbb-2021.5.0         | 2.0 MB    | ##################################### | 100% \n",
      "pyopenssl-22.0.0     | 49 KB     | ##################################### | 100% \n",
      "mysql-libs-8.0.28    | 1.9 MB    | ##################################### | 100% \n",
      "zipp-3.7.0           | 12 KB     | ##################################### | 100% \n",
      "libcblas-3.9.0       | 12 KB     | ##################################### | 100% \n",
      "xorg-libx11-1.7.2    | 941 KB    | ##################################### | 100% \n",
      "chardet-4.0.0        | 199 KB    | ##################################### | 100% \n",
      "protobuf-3.19.4      | 337 KB    | ##################################### | 100% \n",
      "conda-verify-3.1.1   | 33 KB     | ##################################### | 100% \n",
      "google-pasta-0.2.0   | 42 KB     | ##################################### | 100% \n",
      "gdk-pixbuf-2.42.6    | 609 KB    | ##################################### | 100% \n",
      "ca-certificates-2021 | 139 KB    | ##################################### | 100% \n",
      "libev-4.33           | 104 KB    | ##################################### | 100% \n",
      "keras-preprocessing- | 34 KB     | ##################################### | 100% \n",
      "jpeg-9e              | 269 KB    | ##################################### | 100% \n",
      "nspr-4.32            | 233 KB    | ##################################### | 100% \n",
      "readline-8.1         | 295 KB    | ##################################### | 100% \n"
     ]
    },
    {
     "name": "stdout",
     "output_type": "stream",
     "text": [
      "keras-applications-1 | 30 KB     | ##################################### | 100% \n",
      "freetype-2.10.4      | 890 KB    | ##################################### | 100% \n",
      "font-ttf-dejavu-sans | 388 KB    | ##################################### | 100% \n",
      "libnghttp2-1.47.0    | 808 KB    | ##################################### | 100% \n",
      "markupsafe-2.1.0     | 22 KB     | ##################################### | 100% \n",
      "typing_extensions-4. | 29 KB     | ##################################### | 100% \n",
      "libgfortran5-11.2.0  | 1.7 MB    | ##################################### | 100% \n",
      "ripgrep-13.0.0       | 1.7 MB    | ##################################### | 100% \n",
      "requests-2.27.1      | 53 KB     | ##################################### | 100% \n",
      "pip-22.0.3           | 1.5 MB    | ##################################### | 100% \n",
      "pcre-8.45            | 253 KB    | ##################################### | 100% \n",
      "fontconfig-2.13.96   | 372 KB    | ##################################### | 100% \n",
      "hdf5-1.12.1          | 3.6 MB    | ##################################### | 100% \n",
      "jbig-2.1             | 43 KB     | ##################################### | 100% \n",
      "font-ttf-ubuntu-0.83 | 1.9 MB    | ##################################### | 100% \n",
      "brotli-bin-1.0.9     | 19 KB     | ##################################### | 100% \n",
      "markdown-3.3.6       | 67 KB     | ##################################### | 100% \n",
      "llvm-openmp-13.0.1   | 3.4 MB    | ##################################### | 100% \n",
      "tqdm-4.62.3          | 80 KB     | ##################################### | 100% \n",
      "libtool-2.4.6        | 511 KB    | ##################################### | 100% \n",
      "conda-build-3.21.8   | 571 KB    | ##################################### | 100% \n",
      "alsa-lib-1.2.3       | 560 KB    | ##################################### | 100% \n",
      "plotly-5.6.0         | 6.9 MB    | ##################################### | 100% \n",
      "colorama-0.4.4       | 18 KB     | ##################################### | 100% \n",
      "tk-8.6.12            | 3.3 MB    | ##################################### | 100% \n",
      "python-3.7.12        | 57.3 MB   | ##################################### | 100% \n",
      "libtiff-4.3.0        | 638 KB    | ##################################### | 100% \n",
      "xorg-xproto-7.0.31   | 73 KB     | ##################################### | 100% \n",
      "pyqt-5.12.3          | 22 KB     | ##################################### | 100% \n",
      "xorg-libxau-1.0.9    | 13 KB     | ##################################### | 100% \n",
      "lerc-3.0             | 216 KB    | ##################################### | 100% \n",
      "ld_impl_linux-64-2.3 | 667 KB    | ##################################### | 100% \n",
      "_openmp_mutex-4.5    | 5 KB      | ##################################### | 100% \n",
      "libdeflate-1.10      | 77 KB     | ##################################### | 100% \n",
      "clyent-1.2.2         | 9 KB      | ##################################### | 100% \n",
      "fonttools-4.29.1     | 1.6 MB    | ##################################### | 100% \n",
      "libbrotlidec-1.0.9   | 33 KB     | ##################################### | 100% \n",
      "rtree-0.9.7          | 45 KB     | ##################################### | 100% \n",
      "graphviz-2.50.0      | 3.0 MB    | ##################################### | 100% \n",
      "numpy-1.21.5         | 6.1 MB    | ##################################### | 100% \n",
      "pyqtwebengine-5.12.1 | 175 KB    | ##################################### | 100% \n",
      "patchelf-0.14.5      | 93 KB     | ##################################### | 100% \n",
      "ncurses-6.3          | 1012 KB   | ##################################### | 100% \n",
      "py-xgboost-1.5.1     | 151 KB    | ##################################### | 100% \n",
      "libvorbis-1.3.7      | 280 KB    | ##################################### | 100% \n",
      "certifi-2021.10.8    | 145 KB    | ##################################### | 100% \n",
      "importlib-metadata-4 | 32 KB     | ##################################### | 100% \n",
      "python-dateutil-2.8. | 240 KB    | ##################################### | 100% \n",
      "jinja2-3.0.3         | 99 KB     | ##################################### | 100% \n",
      "libclang-13.0.1      | 11.1 MB   | ##################################### | 100% \n",
      "xorg-libxext-1.3.4   | 54 KB     | ##################################### | 100% \n",
      "fonts-conda-ecosyste | 4 KB      | ##################################### | 100% \n",
      "libogg-1.3.4         | 206 KB    | ##################################### | 100% \n",
      "libffi-3.4.2         | 57 KB     | ##################################### | 100% \n",
      "libedit-3.1.20191231 | 121 KB    | ##################################### | 100% \n",
      "charset-normalizer-2 | 35 KB     | ##################################### | 100% \n",
      "pkginfo-1.8.2        | 23 KB     | ##################################### | 100% \n",
      "wheel-0.37.1         | 31 KB     | ##################################### | 100% \n",
      "astor-0.8.1          | 25 KB     | ##################################### | 100% \n",
      "urllib3-1.26.8       | 100 KB    | ##################################### | 100% \n",
      "xz-5.2.5             | 343 KB    | ##################################### | 100% \n",
      "libbrotlicommon-1.0. | 65 KB     | ##################################### | 100% \n",
      "ruamel_yaml-0.15.80  | 270 KB    | ##################################### | 100% \n",
      "libxkbcommon-1.0.3   | 581 KB    | ##################################### | 100% \n",
      "munkres-1.1.4        | 12 KB     | ##################################### | 100% \n",
      "krb5-1.19.2          | 1.4 MB    | ##################################### | 100% \n",
      "xorg-libxdmcp-1.1.3  | 19 KB     | ##################################### | 100% \n",
      "cycler-0.11.0        | 10 KB     | ##################################### | 100% \n",
      "fribidi-1.0.10       | 112 KB    | ##################################### | 100% \n",
      "python-libarchive-c- | 61 KB     | ##################################### | 100% \n",
      "pycosat-0.6.3        | 107 KB    | ##################################### | 100% \n",
      "libevent-2.1.10      | 1.1 MB    | ##################################### | 100% \n",
      "conda-package-handli | 1008 KB   | ##################################### | 100% \n",
      "icu-69.1             | 13.2 MB   | ##################################### | 100% \n",
      "gts-0.7.6            | 411 KB    | ##################################### | 100% \n",
      "gtk2-2.24.33         | 7.4 MB    | ##################################### | 100% \n",
      "werkzeug-0.16.1      | 255 KB    | ##################################### | 100% \n",
      "scikit-learn-1.0.2   | 7.8 MB    | ##################################### | 100% \n",
      "atk-1.0-2.36.0       | 560 KB    | ##################################### | 100% \n",
      "gst-plugins-base-1.1 | 2.6 MB    | ##################################### | 100% \n",
      "pyparsing-3.0.7      | 79 KB     | ##################################### | 100% \n",
      "libprotobuf-3.19.4   | 2.6 MB    | ##################################### | 100% \n",
      "libpng-1.6.37        | 306 KB    | ##################################### | 100% \n",
      "libopus-1.3.1        | 255 KB    | ##################################### | 100% \n",
      "cached_property-1.5. | 11 KB     | ##################################### | 100% \n",
      "sqlite-3.37.0        | 1.5 MB    | ##################################### | 100% \n",
      "packaging-21.3       | 36 KB     | ##################################### | 100% \n",
      "cudnn-7.6.5.32       | 226.2 MB  | ##################################### | 100% \n",
      "termcolor-1.1.0      | 6 KB      | ##################################### | 100% \n",
      "six-1.16.0           | 14 KB     | ##################################### | 100% \n",
      "libgcc-ng-11.2.0     | 904 KB    | ##################################### | 100% \n",
      "python_abi-3.7       | 4 KB      | ##################################### | 100% \n",
      "lcms2-2.12           | 443 KB    | ##################################### | 100% \n",
      "pytz-2021.3          | 242 KB    | ##################################### | 100% \n",
      "scipy-1.7.3          | 21.8 MB   | ##################################### | 100% \n",
      "mkl-service-2.4.0    | 61 KB     | ##################################### | 100% \n",
      "click-8.0.4          | 145 KB    | ##################################### | 100% \n",
      "font-ttf-inconsolata | 94 KB     | ##################################### | 100% \n",
      "pysocks-1.7.1        | 28 KB     | ##################################### | 100% \n",
      "liblief-0.11.5       | 2.2 MB    | ##################################### | 100% \n",
      "liblapack-3.9.0      | 12 KB     | ##################################### | 100% \n"
     ]
    },
    {
     "name": "stdout",
     "output_type": "stream",
     "text": [
      "libstdcxx-ng-11.2.0  | 4.2 MB    | ##################################### | 100% \n",
      "mysql-common-8.0.28  | 1.8 MB    | ##################################### | 100% \n",
      "absl-py-0.12.0       | 96 KB     | ##################################### | 100% \n",
      "soupsieve-2.3.1      | 33 KB     | ##################################### | 100% \n",
      "font-ttf-source-code | 684 KB    | ##################################### | 100% \n",
      "matplotlib-base-3.5. | 7.4 MB    | ##################################### | 100% \n",
      "libxcb-1.13          | 391 KB    | ##################################### | 100% \n",
      "libopenblas-0.3.18   | 9.6 MB    | ##################################### | 100% \n",
      "_libgcc_mutex-0.1    | 3 KB      | ##################################### | 100% \n",
      "libwebp-base-1.2.2   | 824 KB    | ##################################### | 100% \n",
      "xorg-xextproto-7.3.0 | 28 KB     | ##################################### | 100% \n",
      "pycurl-7.44.1        | 70 KB     | ##################################### | 100% \n",
      "Preparing transaction: done\n",
      "Verifying transaction: done\n",
      "Executing transaction: | By downloading and using the CUDA Toolkit conda packages, you accept the terms and conditions of the CUDA End User License Agreement (EULA): https://docs.nvidia.com/cuda/eula/index.html\n",
      "\n",
      "| By downloading and using the cuDNN conda packages, you accept the terms and conditions of the NVIDIA cuDNN EULA -\n",
      "  https://docs.nvidia.com/deeplearning/cudnn/sla/index.html\n",
      "\n",
      "- \n",
      "- \n",
      "done\n"
     ]
    }
   ],
   "source": [
    "# ! conda install -c conda-forge catboost --all -y"
   ]
  },
  {
   "cell_type": "code",
   "execution_count": null,
   "metadata": {
    "gradient": {
     "editing": false,
     "id": "b0f111a5-803c-47ea-8781-6ab9251ddd9f",
     "kernelId": "7fd6bba4-1c21-4a38-bc94-1084ee9d4c17"
    }
   },
   "outputs": [
    {
     "name": "stdout",
     "output_type": "stream",
     "text": [
      "Collecting package metadata (current_repodata.json): done\n",
      "Solving environment: - \n",
      "Warning: 4 possible package resolutions (only showing differing packages):\n",
      "  - anaconda/linux-64::_tflow_select-2.1.0-gpu, anaconda/linux-64::gast-0.2.2-py37_0\n",
      "  - anaconda/linux-64::_tflow_select-2.1.0-gpu, defaults/linux-64::gast-0.2.2-py37_0\n",
      "  - anaconda/linux-64::gast-0.2.2-py37_0, defaults/linux-64::_tflow_select-2.1.0-gpu\n",
      "  - defaults/linux-64::_tflow_select-2.1.0-gpu, defaults/linux-64::gast-0.2.2-py37done\n",
      "\n",
      "## Package Plan ##\n",
      "\n",
      "  environment location: /opt/conda/envs/springboard\n",
      "\n",
      "  added / updated specs:\n",
      "    - lightgbm\n",
      "\n",
      "\n",
      "The following packages will be downloaded:\n",
      "\n",
      "    package                    |            build\n",
      "    ---------------------------|-----------------\n",
      "    lightgbm-3.3.2             |   py37hcd2ae1e_0         1.8 MB  conda-forge\n",
      "    ------------------------------------------------------------\n",
      "                                           Total:         1.8 MB\n",
      "\n",
      "The following NEW packages will be INSTALLED:\n",
      "\n",
      "  lightgbm           conda-forge/linux-64::lightgbm-3.3.2-py37hcd2ae1e_0\n",
      "\n",
      "\n",
      "\n",
      "Downloading and Extracting Packages\n",
      "lightgbm-3.3.2       | 1.8 MB    | ##################################### | 100% \n",
      "Preparing transaction: done\n",
      "Verifying transaction: done\n",
      "Executing transaction: done\n"
     ]
    }
   ],
   "source": [
    "# ! conda install -c conda-forge lightgbm --all -y"
   ]
  },
  {
   "cell_type": "markdown",
   "metadata": {
    "gradient": {
     "editing": false,
     "id": "45316394-e6b8-4b01-8c8d-be1fd1771fef",
     "kernelId": "7fd6bba4-1c21-4a38-bc94-1084ee9d4c17"
    }
   },
   "source": [
    "Your task in this optional section of the mini project is to read the documentation of these three libraries, and apply all of them to the \"German Credit\" dataset, just like you did in the case of Decision Trees and Random Forests."
   ]
  },
  {
   "cell_type": "markdown",
   "metadata": {
    "gradient": {
     "editing": false,
     "id": "7297edc1-c8ca-4fc8-92ff-d9c0eb20d5dd",
     "kernelId": "7fd6bba4-1c21-4a38-bc94-1084ee9d4c17"
    }
   },
   "source": [
    "The final deliverable of this section should be a table (can be a pandas DataFrame) which shows the accuracy of all the five algorthms taught in this mini project in one place."
   ]
  },
  {
   "cell_type": "markdown",
   "metadata": {
    "gradient": {
     "editing": false,
     "id": "0de97a85-cfb8-4750-a87a-8f5510e5810d",
     "kernelId": "7fd6bba4-1c21-4a38-bc94-1084ee9d4c17"
    }
   },
   "source": [
    "Happy modeling! :)"
   ]
  },
  {
   "cell_type": "code",
   "execution_count": null,
   "metadata": {
    "gradient": {
     "editing": false,
     "id": "ee367afa-1a51-4e3d-827d-0c417c1651c6",
     "kernelId": "7fd6bba4-1c21-4a38-bc94-1084ee9d4c17"
    }
   },
   "outputs": [],
   "source": []
  }
 ],
 "metadata": {
  "kernelspec": {
   "display_name": "Python 3 (ipykernel)",
   "language": "python",
   "name": "python3"
  },
  "language_info": {
   "codemirror_mode": {
    "name": "ipython",
    "version": 3
   },
   "file_extension": ".py",
   "mimetype": "text/x-python",
   "name": "python",
   "nbconvert_exporter": "python",
   "pygments_lexer": "ipython3",
   "version": "3.9.7"
  }
 },
 "nbformat": 4,
 "nbformat_minor": 2
}
